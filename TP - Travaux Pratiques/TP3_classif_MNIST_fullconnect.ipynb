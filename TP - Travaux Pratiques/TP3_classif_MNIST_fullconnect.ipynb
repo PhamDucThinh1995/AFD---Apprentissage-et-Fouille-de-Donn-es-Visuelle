{
  "cells": [
    {
      "cell_type": "markdown",
      "source": [
        "**Recopiez ce notebook et envoyez-moi le lien à la fin de la séance.**\n",
        "\n",
        "Votre **nom**:\n",
        "\n",
        "\n",
        "Votre **prénom**:\n",
        "\n",
        "\n",
        "*Observations/commentaires éventuels de l'étudiant à l'enseignant*:\n",
        "\n"
      ],
      "metadata": {
        "id": "JoE90NwEwSER"
      }
    },
    {
      "cell_type": "markdown",
      "metadata": {
        "id": "XLE1lloowRZF"
      },
      "source": [
        "\n",
        "# Neural Networks\n",
        "\n",
        "*Emmanuel Viennet, 2019-12-15, 2022-01-11*\n",
        "\n",
        "## Application to digit images recognition\n",
        "\n",
        "\n",
        "Neural networks can be constructed using the ``torch.nn`` package.\n",
        "\n",
        "Now that you had a glimpse of ``autograd``, ``nn`` depends on\n",
        "``autograd`` to define models and differentiate them.\n",
        "An ``nn.Module`` contains layers, and a method ``forward(input)`` that\n",
        "returns the ``output``.\n",
        "\n",
        "\n",
        "A typical training procedure for a neural network is as follows:\n",
        "\n",
        "- Define the neural network that has some learnable parameters (or\n",
        "  weights)\n",
        "- Iterate over a dataset of inputs\n",
        "- Process input through the network\n",
        "- Compute the loss (how far is the output from being correct)\n",
        "- Propagate gradients back into the network’s parameters\n",
        "- Update the weights of the network, typically using a simple update rule:\n",
        "  ``weight = weight - learning_rate * gradient``\n",
        "\n",
        "\n",
        "\n"
      ]
    },
    {
      "cell_type": "code",
      "execution_count": null,
      "metadata": {
        "id": "qJRxtEG6wRZJ"
      },
      "outputs": [],
      "source": [
        "%matplotlib inline\n",
        "import numpy as np\n",
        "import matplotlib.pyplot as plt\n",
        "from scipy.io import loadmat # SciPy module that loads mat-files"
      ]
    },
    {
      "cell_type": "markdown",
      "metadata": {
        "id": "T_r8S5ZdwRZK"
      },
      "source": [
        "# Define the neural network\n",
        "\n",
        "\n",
        "Let’s define a fully connected neural network with one hidden layer:"
      ]
    },
    {
      "cell_type": "code",
      "execution_count": null,
      "metadata": {
        "colab": {
          "base_uri": "https://localhost:8080/"
        },
        "id": "ASa--TSWwRZL",
        "outputId": "3e2eb76c-1c5a-4ac1-bf51-eae24649310c"
      },
      "outputs": [
        {
          "output_type": "stream",
          "name": "stdout",
          "text": [
            "Net(\n",
            "  (fc1): Linear(in_features=784, out_features=100, bias=True)\n",
            "  (fc2): Linear(in_features=100, out_features=10, bias=True)\n",
            ")\n"
          ]
        }
      ],
      "source": [
        "import torch\n",
        "import torch.nn as nn\n",
        "import torch.nn.functional as F\n",
        "\n",
        "ImWidth  = 28 # input image size\n",
        "ImHeight = 28\n",
        "N1 = 100 # neurons on first hidden layer\n",
        "NbClass= 10 # neurons on output layer\n",
        "\n",
        "class Net(nn.Module):\n",
        "\n",
        "    def __init__(self):\n",
        "        super(Net, self).__init__()        \n",
        "        self.fc1 = nn.Linear(ImWidth*ImHeight, N1)\n",
        "        self.fc2 = nn.Linear(N1, NbClass)        \n",
        "    \n",
        "    def forward(self, x):\n",
        "        x = torch.flatten(x, 1) # the input is a 2d image        \n",
        "        x = F.relu(self.fc1(x))\n",
        "        x = torch.sigmoid(self.fc2(x))\n",
        "        return x\n",
        "\n",
        "net = Net()\n",
        "print(net)"
      ]
    },
    {
      "cell_type": "markdown",
      "metadata": {
        "id": "G08Z_THJwRZM"
      },
      "source": [
        "## Explanations and experiments\n",
        "\n",
        "Before learning this network, let's experiment a bit with PyTorch.\n",
        "\n",
        "You just have to define the ``forward`` function, and the ``backward``\n",
        "function (where gradients are computed) is automatically defined for you\n",
        "using ``autograd``.\n",
        "You can use any of the Tensor operations in the ``forward`` function.\n",
        "\n",
        "The learnable parameters of a model are returned by ``net.parameters()``\n",
        "\n"
      ]
    },
    {
      "cell_type": "code",
      "execution_count": null,
      "metadata": {
        "colab": {
          "base_uri": "https://localhost:8080/"
        },
        "id": "jWXkAe7ZwRZM",
        "outputId": "75ddd495-0d63-49ee-94f9-43779741020e"
      },
      "outputs": [
        {
          "output_type": "stream",
          "name": "stdout",
          "text": [
            "network parameters:\n",
            "params[0] size=torch.Size([100, 784])\n",
            "params[1] size=torch.Size([100])\n",
            "params[2] size=torch.Size([10, 100])\n",
            "params[3] size=torch.Size([10])\n"
          ]
        }
      ],
      "source": [
        "params = list(net.parameters())\n",
        "print(\"network parameters:\")\n",
        "for i in range(len(params)):\n",
        "    print('params[{}] size={}'.format(i, params[i].size()))"
      ]
    },
    {
      "cell_type": "markdown",
      "metadata": {
        "id": "0ZUKB80uwRZN"
      },
      "source": [
        "**Question**: can you interpret these parameters sizes ? (what is `params[1]` ?) "
      ]
    },
    {
      "cell_type": "markdown",
      "metadata": {
        "id": "2pSLHieGwRZO"
      },
      "source": [
        "### Let try a random 28x28 input:"
      ]
    },
    {
      "cell_type": "code",
      "execution_count": null,
      "metadata": {
        "colab": {
          "base_uri": "https://localhost:8080/"
        },
        "id": "zduD_QduwRZO",
        "outputId": "e5ce8b8a-dd42-403b-f19c-53d51122b224"
      },
      "outputs": [
        {
          "output_type": "stream",
          "name": "stdout",
          "text": [
            "tensor([[0.5119, 0.5189, 0.6453, 0.3977, 0.3669, 0.4250, 0.5132, 0.5839, 0.5632,\n",
            "         0.5761]], grad_fn=<SigmoidBackward0>)\n"
          ]
        }
      ],
      "source": [
        "input = torch.randn(1, ImWidth, ImHeight)\n",
        "out = net(input)\n",
        "print(out)"
      ]
    },
    {
      "cell_type": "markdown",
      "metadata": {
        "id": "q4SfZjgiwRZP"
      },
      "source": [
        "**Question**: what is the dimension of the output (printed above) ? What is the class associated by our untrained network to this random input image ?"
      ]
    },
    {
      "cell_type": "markdown",
      "metadata": {
        "id": "PYiZ5M5OwRZP"
      },
      "source": [
        "### Zero the gradient buffers of all parameters and backprops with random gradients:\n",
        "\n"
      ]
    },
    {
      "cell_type": "code",
      "execution_count": null,
      "metadata": {
        "id": "9TyqX78PwRZP"
      },
      "outputs": [],
      "source": [
        "net.zero_grad()\n",
        "out.backward(torch.randn(1, 10))"
      ]
    },
    {
      "cell_type": "markdown",
      "metadata": {
        "id": "bOyKDKulwRZQ"
      },
      "source": [
        "<div class=\"alert alert-info\"><h4>Note</h4><p>``torch.nn`` only supports mini-batches. The entire ``torch.nn``\n",
        "    package only supports inputs that are a mini-batch of samples, and not\n",
        "    a single sample.\n",
        "\n",
        "    For example, ``nn.Conv2d`` will take in a 4D Tensor of\n",
        "    ``nSamples x nChannels x Height x Width``.\n",
        "\n",
        "    If you have a single sample, just use ``input.unsqueeze(0)`` to add\n",
        "    a fake batch dimension.\n",
        "\n",
        "Before proceeding further, let's recap all the classes you’ve seen so far.\n",
        "\n",
        "**Recap:**\n",
        "  -  ``torch.Tensor`` - A *multi-dimensional array* with support for autograd\n",
        "     operations like ``backward()``. Also *holds the gradient* w.r.t. the\n",
        "     tensor.\n",
        "  -  ``nn.Module`` - Neural network module. *Convenient way of\n",
        "     encapsulating parameters*, with helpers for moving them to GPU,\n",
        "     exporting, loading, etc.\n",
        "  -  ``nn.Parameter`` - A kind of Tensor, that is *automatically\n",
        "     registered as a parameter when assigned as an attribute to a*\n",
        "     ``Module``.\n",
        "  -  ``autograd.Function`` - Implements *forward and backward definitions\n",
        "     of an autograd operation*. Every ``Tensor`` operation creates at\n",
        "     least a single ``Function`` node that connects to functions that\n",
        "     created a ``Tensor`` and *encodes its history*.\n",
        "\n",
        "**At this point, we covered:**\n",
        "  -  Defining a neural network\n",
        "  -  Processing inputs and calling backward\n",
        "\n",
        "**Still Left:**\n",
        "  -  Computing the loss\n",
        "  -  Updating the weights of the network\n",
        "\n",
        "Loss Function\n",
        "-------------\n",
        "A loss function takes the (output, target) pair of inputs, and computes a\n",
        "value that estimates how far away the output is from the target.\n",
        "\n",
        "There are several different\n",
        "loss functions https://pytorch.org/docs/nn.html#loss-functions under the\n",
        "nn package .\n",
        "A simple loss is: ``nn.MSELoss`` which computes the mean-squared error\n",
        "between the input and the target.\n",
        "\n",
        "For example:\n",
        "\n",
        "</div>"
      ]
    },
    {
      "cell_type": "code",
      "execution_count": null,
      "metadata": {
        "colab": {
          "base_uri": "https://localhost:8080/"
        },
        "id": "bwHZpRPowRZQ",
        "outputId": "bbf2de7d-767f-47a5-eeb1-dc5209d82a54"
      },
      "outputs": [
        {
          "output_type": "stream",
          "name": "stdout",
          "text": [
            "tensor([[ 1.2824,  0.2616, -0.4577,  1.0668,  0.2965,  1.3334,  0.3961,  0.4971,\n",
            "          2.3507,  0.7872]])\n",
            "tensor(0.6415, grad_fn=<MseLossBackward0>)\n"
          ]
        }
      ],
      "source": [
        "output = net(input)\n",
        "target = torch.randn(10)  # a dummy target, for example\n",
        "target = target.view(1, -1)  # make it the same shape as output\n",
        "print(target)\n",
        "criterion = nn.MSELoss()\n",
        "\n",
        "loss = criterion(output, target)\n",
        "print(loss)"
      ]
    },
    {
      "cell_type": "markdown",
      "metadata": {
        "id": "BIf76oWzwRZR"
      },
      "source": [
        "As you can see, the loss is a tensor, which allows PyTorch (autograd) to automatically compute its gradient."
      ]
    },
    {
      "cell_type": "markdown",
      "metadata": {
        "id": "KyR5gl0iwRZR"
      },
      "source": [
        "### Gradient backpropagation\n",
        "\n",
        "To backpropagate the error all we have to do is to ``loss.backward()``.\n",
        "You need to clear the existing gradients though, else gradients will be\n",
        "accumulated to existing gradients.\n",
        "\n",
        "\n",
        "Now we shall call ``loss.backward()``, and have a look at fc1's bias\n",
        "gradients before and after the backward.\n",
        "\n"
      ]
    },
    {
      "cell_type": "code",
      "execution_count": null,
      "metadata": {
        "colab": {
          "base_uri": "https://localhost:8080/"
        },
        "id": "-YiPsXoKwRZS",
        "outputId": "8fccc7b7-d2ce-464b-d172-44596cb57466"
      },
      "outputs": [
        {
          "output_type": "stream",
          "name": "stdout",
          "text": [
            "fc1.bias.grad before backward\n",
            "tensor([0., 0., 0., 0., 0., 0., 0., 0., 0., 0., 0., 0., 0., 0., 0., 0., 0., 0., 0., 0., 0., 0., 0., 0.,\n",
            "        0., 0., 0., 0., 0., 0., 0., 0., 0., 0., 0., 0., 0., 0., 0., 0., 0., 0., 0., 0., 0., 0., 0., 0.,\n",
            "        0., 0., 0., 0., 0., 0., 0., 0., 0., 0., 0., 0., 0., 0., 0., 0., 0., 0., 0., 0., 0., 0., 0., 0.,\n",
            "        0., 0., 0., 0., 0., 0., 0., 0., 0., 0., 0., 0., 0., 0., 0., 0., 0., 0., 0., 0., 0., 0., 0., 0.,\n",
            "        0., 0., 0., 0.])\n",
            "fc1.bias.grad after backward\n",
            "tensor([ 0.0000, -0.0076,  0.0063,  0.0000,  0.0028,  0.0000,  0.0000,  0.0018,\n",
            "         0.0000,  0.0108,  0.0000, -0.0058,  0.0009,  0.0000,  0.0020,  0.0000,\n",
            "         0.0059, -0.0049, -0.0083, -0.0018,  0.0000,  0.0000,  0.0129,  0.0085,\n",
            "        -0.0011, -0.0038,  0.0041,  0.0000,  0.0025, -0.0012,  0.0000, -0.0056,\n",
            "         0.0000,  0.0000, -0.0011, -0.0078, -0.0013,  0.0000,  0.0000, -0.0124,\n",
            "         0.0000,  0.0000, -0.0044,  0.0052,  0.0000, -0.0004,  0.0000,  0.0038,\n",
            "         0.0029,  0.0000,  0.0000,  0.0000,  0.0022,  0.0000, -0.0020,  0.0038,\n",
            "        -0.0009,  0.0000,  0.0072,  0.0069,  0.0062,  0.0012,  0.0018,  0.0017,\n",
            "         0.0047,  0.0025,  0.0000,  0.0000,  0.0000,  0.0000,  0.0017, -0.0014,\n",
            "        -0.0089,  0.0136, -0.0091,  0.0014,  0.0000,  0.0000,  0.0000,  0.0105,\n",
            "         0.0017, -0.0069,  0.0000, -0.0046,  0.0000,  0.0001,  0.0000,  0.0000,\n",
            "        -0.0094,  0.0000,  0.0000,  0.0033,  0.0000,  0.0089,  0.0000,  0.0000,\n",
            "         0.0030, -0.0006,  0.0000,  0.0000])\n"
          ]
        }
      ],
      "source": [
        "net.zero_grad()     # zeroes the gradient buffers of all parameters\n",
        "\n",
        "print('fc1.bias.grad before backward')\n",
        "print(net.fc1.bias.grad)\n",
        "\n",
        "loss.backward()\n",
        "\n",
        "print('fc1.bias.grad after backward')\n",
        "print(net.fc1.bias.grad)"
      ]
    },
    {
      "cell_type": "markdown",
      "metadata": {
        "id": "aViVPm38wRZS"
      },
      "source": [
        "Now, we have seen how to use loss functions.\n",
        "\n",
        "**Read Later:**\n",
        "\n",
        "  The neural network package contains various modules and loss functions\n",
        "  that form the building blocks of deep neural networks. A full list with\n",
        "  documentation is here https://pytorch.org/docs/nn.\n",
        "\n",
        "**The only thing left to learn is:**\n",
        "\n",
        "  - Updating the weights of the network\n",
        "\n",
        "Update the weights\n",
        "------------------\n",
        "The simplest update rule used in practice is the Stochastic Gradient\n",
        "Descent (SGD):\n",
        "\n",
        "     ``weight = weight - learning_rate * gradient``\n",
        "\n",
        "We can implement this using simple python code:\n",
        "\n",
        ".. code:: python\n",
        "\n",
        "    learning_rate = 0.01\n",
        "    for f in net.parameters():\n",
        "        f.data.sub_(f.grad.data * learning_rate)\n",
        "\n",
        "However, as you use neural networks, you want to use various different\n",
        "update rules such as SGD, Nesterov-SGD, Adam, RMSProp, etc.\n",
        "To enable this, we built a small package: ``torch.optim`` that\n",
        "implements all these methods. Using it is very simple:\n",
        "\n"
      ]
    },
    {
      "cell_type": "code",
      "execution_count": null,
      "metadata": {
        "id": "UBeDSk6CwRZS"
      },
      "outputs": [],
      "source": [
        "import torch.optim as optim\n",
        "\n",
        "# create your optimizer\n",
        "optimizer = optim.SGD(net.parameters(), lr=1) # learning_rate = 1.0\n",
        "\n",
        "# in your training loop:\n",
        "optimizer.zero_grad()   # zero the gradient buffers\n",
        "output = net(input)\n",
        "loss = criterion(output, target)\n",
        "loss.backward()\n",
        "optimizer.step()    # Does the update"
      ]
    },
    {
      "cell_type": "markdown",
      "metadata": {
        "id": "BJdtsCaOwRZS"
      },
      "source": [
        "Observe how gradient buffers had to be manually set to zero using\n",
        "``optimizer.zero_grad()``. This is because gradients are accumulated\n",
        "as explained before.\n",
        "\n"
      ]
    },
    {
      "cell_type": "markdown",
      "metadata": {
        "id": "fWJdJ8j9wRZT"
      },
      "source": [
        "# Experiment on MNIST digits\n",
        "\n",
        "Our network retina is 28x28"
      ]
    },
    {
      "cell_type": "markdown",
      "metadata": {
        "id": "o0jyEeUrwRZT"
      },
      "source": [
        "## Load and prepare data"
      ]
    },
    {
      "cell_type": "markdown",
      "source": [
        "La cellule suivante permet de lire des données depuis votre Google Drive: il vous faut adapter le chemin pour indiquer le dossier dans lequel vous aurez placé vos données. Lors de la première exécution, vous devrez autoriser ce code à accéder à votre drive."
      ],
      "metadata": {
        "id": "de3LsrEyVjTF"
      }
    },
    {
      "cell_type": "code",
      "source": [
        "from google.colab import drive\n",
        "\n",
        "drive.mount('/content/drive')\n",
        "# On peut utiliser !ls pour explorer son drive...\n",
        "# ! ls "
      ],
      "metadata": {
        "colab": {
          "base_uri": "https://localhost:8080/"
        },
        "id": "1OVqPHqOU9IK",
        "outputId": "48c450eb-65f0-43d8-f1af-d3977c3580a3"
      },
      "execution_count": null,
      "outputs": [
        {
          "output_type": "stream",
          "name": "stdout",
          "text": [
            "Mounted at /content/drive\n"
          ]
        }
      ]
    },
    {
      "cell_type": "code",
      "execution_count": null,
      "metadata": {
        "colab": {
          "base_uri": "https://localhost:8080/"
        },
        "id": "VBmy8LYmwRZT",
        "outputId": "2c63f2b8-ef3a-470a-9d9a-e99ab7187c2e"
      },
      "outputs": [
        {
          "output_type": "stream",
          "name": "stdout",
          "text": [
            "{'__header__': b'MATLAB 5.0 MAT-file Platform: posix, Created on: Wed Dec 19 13:46:13 2018', '__version__': '1.0', '__globals__': [], 'mldata_descr_ordering': array([[array(['label'], dtype='<U5'), array(['data'], dtype='<U4')]],\n",
            "      dtype=object), 'data': array([[0, 0, 0, ..., 0, 0, 0],\n",
            "       [0, 0, 0, ..., 0, 0, 0],\n",
            "       [0, 0, 0, ..., 0, 0, 0],\n",
            "       ...,\n",
            "       [0, 0, 0, ..., 0, 0, 0],\n",
            "       [0, 0, 0, ..., 0, 0, 0],\n",
            "       [0, 0, 0, ..., 0, 0, 0]], dtype=uint8), 'label': array([[0., 0., 0., ..., 9., 9., 9.]])}\n"
          ]
        }
      ],
      "source": [
        "import os\n",
        "\n",
        "# Le fichier des données (images des chiffres) est à récupérer ici\n",
        "# https://drive.google.com/file/d/1L9JhlevAsKlOGZImjY4b6ny4_GX_ZyUv/view?usp=sharing\n",
        "# et à placer dans VOTRE drive pour l'utiliser.\n",
        "# Ajuster le chemin ci-dessous pour le retrouver !\n",
        "mnist_raw = loadmat('drive/MyDrive/Colab Notebooks/AFD-2021-22/Séance-2/mnist-original.mat')\n",
        "print(mnist_raw)"
      ]
    },
    {
      "cell_type": "code",
      "execution_count": null,
      "metadata": {
        "colab": {
          "base_uri": "https://localhost:8080/"
        },
        "id": "KxYQIJddwRZT",
        "outputId": "700a9dcd-8fda-47a7-a552-a158df5e1534"
      },
      "outputs": [
        {
          "output_type": "stream",
          "name": "stdout",
          "text": [
            "torch.Size([70000, 1, 28, 28])\n",
            "(70000,)\n",
            "[8 8 8 8 8 8 8 8 8 8]\n"
          ]
        }
      ],
      "source": [
        "data = torch.from_numpy(mnist_raw['data'].transpose()).view((-1,1,ImWidth,ImHeight))\n",
        "print(data.shape) # 70000 28x28 images\n",
        "label = mnist_raw['label'].reshape(-1).astype(int)\n",
        "print(label.shape)\n",
        "print(label[50000:50010])"
      ]
    },
    {
      "cell_type": "code",
      "execution_count": null,
      "metadata": {
        "colab": {
          "base_uri": "https://localhost:8080/",
          "height": 283
        },
        "id": "Xrav9zOXwRZU",
        "outputId": "3c1a6595-ef1c-4831-f463-c990912d5c30"
      },
      "outputs": [
        {
          "output_type": "execute_result",
          "data": {
            "text/plain": [
              "<matplotlib.image.AxesImage at 0x7f86a90a6410>"
            ]
          },
          "metadata": {},
          "execution_count": 13
        },
        {
          "output_type": "display_data",
          "data": {
            "image/png": "[encoded data removed]",
            "text/plain": [
              "<Figure size 432x288 with 1 Axes>"
            ]
          },
          "metadata": {
            "needs_background": "light"
          }
        }
      ],
      "source": [
        "plt.imshow(data[50000][0], cmap = plt.cm.gray, clim=(0, 255))"
      ]
    },
    {
      "cell_type": "code",
      "execution_count": null,
      "metadata": {
        "colab": {
          "base_uri": "https://localhost:8080/"
        },
        "id": "k-MPPO2awRZU",
        "outputId": "2d31f2a3-ce0b-467e-f9b9-6b29284f8162"
      },
      "outputs": [
        {
          "output_type": "stream",
          "name": "stdout",
          "text": [
            "mean_pixel=33.385963439941406, std_pixel=78.65437316894531\n"
          ]
        }
      ],
      "source": [
        "# Normalization parameters, computed on all data (train+test)\n",
        "data_float = data.to(torch.float)\n",
        "mean_pixel = torch.mean(data_float)\n",
        "std_pixel = torch.std(data_float)\n",
        "print(f'mean_pixel={mean_pixel}, std_pixel={std_pixel}')"
      ]
    },
    {
      "cell_type": "code",
      "execution_count": null,
      "metadata": {
        "colab": {
          "base_uri": "https://localhost:8080/"
        },
        "id": "TqmE8bqpwRZU",
        "outputId": "5d91d02d-73e8-426d-8618-8e6df2779ad0"
      },
      "outputs": [
        {
          "output_type": "stream",
          "name": "stdout",
          "text": [
            "data size= torch.Size([70000, 1, 28, 28])\n",
            "X size= torch.Size([70000, 1, 28, 28])\n",
            "mean input=3.4877232213403886e-09, std input=1.0\n"
          ]
        }
      ],
      "source": [
        "print('data size=', data.size())\n",
        "X = (data_float - mean_pixel) / std_pixel\n",
        "print('X size=', X.size())\n",
        "print(f'mean input={torch.mean(X)}, std input={torch.std(X)}')"
      ]
    },
    {
      "cell_type": "code",
      "execution_count": null,
      "metadata": {
        "colab": {
          "base_uri": "https://localhost:8080/",
          "height": 283
        },
        "id": "arSY2b7rwRZU",
        "outputId": "17618a0d-4db6-4347-fc50-55cdae89ec85"
      },
      "outputs": [
        {
          "output_type": "execute_result",
          "data": {
            "text/plain": [
              "<matplotlib.image.AxesImage at 0x7f86a8341f90>"
            ]
          },
          "metadata": {},
          "execution_count": 16
        },
        {
          "output_type": "display_data",
          "data": {
            "image/png": "[encoded data removed]",
            "text/plain": [
              "<Figure size 432x288 with 1 Axes>"
            ]
          },
          "metadata": {
            "needs_background": "light"
          }
        }
      ],
      "source": [
        "plt.imshow(X[7000][0], cmap = plt.cm.gray, clim=(0, 1))"
      ]
    },
    {
      "cell_type": "markdown",
      "metadata": {
        "id": "vtTGdpk8wRZV"
      },
      "source": [
        "### Prepare output vectors in \"one hot encoding\" format\n",
        "`label` are the classes `(0, 1, ..., 9)`."
      ]
    },
    {
      "cell_type": "code",
      "execution_count": null,
      "metadata": {
        "colab": {
          "base_uri": "https://localhost:8080/"
        },
        "id": "4U9oXUrowRZV",
        "outputId": "c4a05862-240a-4ae3-82b7-61ae6adacd9d"
      },
      "outputs": [
        {
          "output_type": "execute_result",
          "data": {
            "text/plain": [
              "tensor([0., 1., 0., 0., 0., 0., 0., 0., 0., 0.])"
            ]
          },
          "metadata": {},
          "execution_count": 17
        }
      ],
      "source": [
        "Y = torch.zeros([len(X), 10], dtype=torch.float)\n",
        "for i in range(len(X)):\n",
        "    Y[i][label[i]] = 1.\n",
        "\n",
        "# example: \n",
        "Y[7000]"
      ]
    },
    {
      "cell_type": "markdown",
      "metadata": {
        "id": "N5C2e4wHwRZV"
      },
      "source": [
        "### Shuffle the examples\n",
        "During learning, the examples should be presented in a random order. \n",
        "Because if we present all the examples from class 0, then class 1, etc., the learning would not converge."
      ]
    },
    {
      "cell_type": "code",
      "execution_count": null,
      "metadata": {
        "colab": {
          "base_uri": "https://localhost:8080/"
        },
        "id": "WhKaEoA0wRZV",
        "outputId": "58127414-d11c-437f-9c0b-4ec41af8bfd3"
      },
      "outputs": [
        {
          "output_type": "execute_result",
          "data": {
            "text/plain": [
              "tensor([2, 9, 5, 3, 6, 8, 7, 1, 0, 4])"
            ]
          },
          "metadata": {},
          "execution_count": 18
        }
      ],
      "source": [
        "# .randperm generates permutations:\n",
        "torch.randperm(10)"
      ]
    },
    {
      "cell_type": "code",
      "execution_count": null,
      "metadata": {
        "colab": {
          "base_uri": "https://localhost:8080/"
        },
        "id": "OzGQ_Y-MwRZV",
        "outputId": "f61359e5-b4dc-4383-8222-4d1f753e7010"
      },
      "outputs": [
        {
          "output_type": "stream",
          "name": "stdout",
          "text": [
            "torch.Size([70000, 1, 28, 28])\n"
          ]
        }
      ],
      "source": [
        "# Shuffle the examples:\n",
        "indices_permutes = torch.randperm(len(X))\n",
        "X_perm = X[indices_permutes]\n",
        "Y_perm = Y[indices_permutes]\n",
        "print(X_perm.size())"
      ]
    },
    {
      "cell_type": "markdown",
      "metadata": {
        "id": "MPM-zlWdwRZW"
      },
      "source": [
        "### Split the data in train/test sets:\n",
        "In this case, we learn on 2/3 of the data, and use the remaining tier to estimate the performances."
      ]
    },
    {
      "cell_type": "code",
      "execution_count": null,
      "metadata": {
        "colab": {
          "base_uri": "https://localhost:8080/"
        },
        "id": "uh-FFq_LwRZW",
        "outputId": "9417a27f-7126-4ba6-87be-a126b87871bc"
      },
      "outputs": [
        {
          "output_type": "stream",
          "name": "stdout",
          "text": [
            "Learning on 46666 examples\n",
            "Eval     on 23334 examples\n"
          ]
        }
      ],
      "source": [
        "n_train = (len(X)*2)//3\n",
        "X_train = X_perm[:n_train]\n",
        "Y_train = Y_perm[:n_train]\n",
        "\n",
        "X_test = X_perm[n_train:]\n",
        "Y_test = Y_perm[n_train:]\n",
        "print('Learning on', len(X_train), 'examples')\n",
        "print('Eval     on', len(X_test), 'examples')"
      ]
    },
    {
      "cell_type": "code",
      "execution_count": null,
      "metadata": {
        "colab": {
          "base_uri": "https://localhost:8080/"
        },
        "id": "G3sAct3wwRZW",
        "outputId": "6c6261b4-c9ee-487b-8c28-2fec0066ce98"
      },
      "outputs": [
        {
          "output_type": "stream",
          "name": "stdout",
          "text": [
            "tensor([[0.6862, 0.4594, 0.3472, 0.6498, 0.4539, 0.6016, 0.4655, 0.4811, 0.6895,\n",
            "         0.4773]], grad_fn=<SigmoidBackward0>)\n"
          ]
        }
      ],
      "source": [
        "out = net(X_train[0:1])\n",
        "print(out)"
      ]
    },
    {
      "cell_type": "code",
      "execution_count": null,
      "metadata": {
        "colab": {
          "base_uri": "https://localhost:8080/"
        },
        "id": "AS9jFZ8_wRZW",
        "outputId": "8e0ecc7c-2732-4aec-e31b-05fd9e1eb294"
      },
      "outputs": [
        {
          "output_type": "execute_result",
          "data": {
            "text/plain": [
              "tensor(8)"
            ]
          },
          "metadata": {},
          "execution_count": 22
        }
      ],
      "source": [
        "# The predicted class (0, 1, 2, ..., 9) is given by the index of the max:\n",
        "torch.argmax(out)"
      ]
    },
    {
      "cell_type": "code",
      "execution_count": null,
      "metadata": {
        "colab": {
          "base_uri": "https://localhost:8080/"
        },
        "id": "GOw4ch9pwRZX",
        "outputId": "6ca2f43a-ea33-4e1f-c593-9f9b3081b3c9"
      },
      "outputs": [
        {
          "output_type": "stream",
          "name": "stdout",
          "text": [
            "Number of errors: 944 ( 94.4 %)\n"
          ]
        }
      ],
      "source": [
        "# Get classification errors\n",
        "def idx_classif_errors(Y_true, Y_pred):\n",
        "    \"\"\"Number of classification errors, on 2 \"one hot encoded\" tensors\n",
        "    \"\"\"\n",
        "    Y_pred_cls = np.argmax(Y_pred.detach().numpy(), axis=1)\n",
        "    Y_true_cls = np.argmax(Y_true.detach().numpy(), axis=1)\n",
        "    return np.where(Y_pred_cls != Y_true_cls)[0]\n",
        "\n",
        "def nb_classif_errors(Y_true, Y_pred):\n",
        "    return len(idx_classif_errors(Y_true, Y_pred))\n",
        "\n",
        "# Let's try this on the first 1000 examples:\n",
        "nb_err = nb_classif_errors( Y_train[:1000], net(X_train[:1000]) ) \n",
        "print(\"Number of errors:\", nb_err, \"(\", nb_err*100/1000., \"%)\")"
      ]
    },
    {
      "cell_type": "markdown",
      "metadata": {
        "id": "XZ9RxHkSwRZX"
      },
      "source": [
        "# Learning the Network"
      ]
    },
    {
      "cell_type": "code",
      "execution_count": null,
      "metadata": {
        "id": "w8WUSD_jwRZX"
      },
      "outputs": [],
      "source": [
        "optimizer = torch.optim.SGD(net.parameters(), lr=1.)\n",
        "batch_size = 10\n",
        "num_epochs = 36\n",
        "\n",
        "losses = [] # record losses and error rates during learning\n",
        "train_err_rates = []\n",
        "test_err_rates = []"
      ]
    },
    {
      "cell_type": "code",
      "execution_count": null,
      "metadata": {
        "colab": {
          "base_uri": "https://localhost:8080/"
        },
        "id": "2dlv9Pp3wRZX",
        "outputId": "25cb79bf-db20-47e6-84dd-b17077630976"
      },
      "outputs": [
        {
          "output_type": "stream",
          "name": "stdout",
          "text": [
            "starting epoch 0\n",
            "0 loss=0.295\n",
            "10000 loss=0.00927\n",
            "20000 loss=0.00554\n",
            "30000 loss=0.00625\n",
            "40000 loss=0.00215\n",
            "Nb of errors (training set): 1948 (4.2%)\n",
            "Nb of errors (test set): 1111 (4.8%)\n",
            "starting epoch 1\n",
            "0 loss=0.00278\n",
            "10000 loss=0.00984\n",
            "20000 loss=0.000268\n",
            "30000 loss=0.00938\n",
            "40000 loss=0.00259\n",
            "Nb of errors (training set): 1379 (  3%)\n",
            "Nb of errors (test set): 909 (3.9%)\n",
            "starting epoch 2\n",
            "0 loss=0.00281\n",
            "10000 loss=0.00904\n",
            "20000 loss=0.000728\n",
            "30000 loss=0.00606\n",
            "40000 loss=0.000187\n",
            "Nb of errors (training set): 1124 (2.4%)\n",
            "Nb of errors (test set): 815 (3.5%)\n",
            "starting epoch 3\n",
            "0 loss=0.00234\n",
            "10000 loss=0.0136\n",
            "20000 loss=0.000275\n",
            "30000 loss=0.00313\n",
            "40000 loss=0.00081\n",
            "Nb of errors (training set): 949 (  2%)\n",
            "Nb of errors (test set): 731 (3.1%)\n",
            "starting epoch 4\n",
            "0 loss=0.000447\n",
            "10000 loss=0.00447\n",
            "20000 loss=0.000428\n",
            "30000 loss=0.000551\n",
            "40000 loss=6.74e-05\n",
            "Nb of errors (training set): 838 (1.8%)\n",
            "Nb of errors (test set): 709 (  3%)\n",
            "starting epoch 5\n",
            "0 loss=0.000371\n",
            "10000 loss=0.00315\n",
            "20000 loss=1.43e-05\n",
            "30000 loss=0.00024\n",
            "40000 loss=7.57e-07\n",
            "Nb of errors (training set): 662 (1.4%)\n",
            "Nb of errors (test set): 637 (2.7%)\n",
            "starting epoch 6\n",
            "0 loss=0.000922\n",
            "10000 loss=0.00228\n",
            "20000 loss=7.06e-05\n",
            "30000 loss=0.000128\n",
            "40000 loss=3.94e-06\n",
            "Nb of errors (training set): 635 (1.4%)\n",
            "Nb of errors (test set): 646 (2.8%)\n",
            "starting epoch 7\n",
            "0 loss=0.000185\n",
            "10000 loss=0.000803\n",
            "20000 loss=3.2e-05\n",
            "30000 loss=0.00016\n",
            "40000 loss=3.59e-06\n",
            "Nb of errors (training set): 555 (1.2%)\n",
            "Nb of errors (test set): 620 (2.7%)\n",
            "starting epoch 8\n",
            "0 loss=3.22e-05\n",
            "10000 loss=0.00132\n",
            "20000 loss=4.32e-05\n",
            "30000 loss=7.51e-05\n",
            "40000 loss=2.33e-06\n",
            "Nb of errors (training set): 516 (1.1%)\n",
            "Nb of errors (test set): 628 (2.7%)\n",
            "starting epoch 9\n",
            "0 loss=1.51e-05\n",
            "10000 loss=0.000926\n",
            "20000 loss=2.74e-05\n",
            "30000 loss=0.0012\n",
            "40000 loss=2.93e-07\n",
            "Nb of errors (training set): 504 (1.1%)\n",
            "Nb of errors (test set): 603 (2.6%)\n",
            "starting epoch 10\n",
            "0 loss=2.21e-05\n",
            "10000 loss=0.000321\n",
            "20000 loss=4.71e-06\n",
            "30000 loss=2.13e-05\n",
            "40000 loss=1.69e-06\n",
            "Nb of errors (training set): 494 (1.1%)\n",
            "Nb of errors (test set): 621 (2.7%)\n",
            "starting epoch 11\n",
            "0 loss=0.0026\n",
            "10000 loss=0.00142\n",
            "20000 loss=1.81e-05\n",
            "30000 loss=4.04e-05\n",
            "40000 loss=8.02e-08\n",
            "Nb of errors (training set): 424 (0.91%)\n",
            "Nb of errors (test set): 611 (2.6%)\n",
            "starting epoch 12\n",
            "0 loss=1.6e-07\n",
            "10000 loss=0.000437\n",
            "20000 loss=1.52e-05\n",
            "30000 loss=0.000163\n",
            "40000 loss=5.71e-09\n",
            "Nb of errors (training set): 430 (0.92%)\n",
            "Nb of errors (test set): 632 (2.7%)\n",
            "starting epoch 13\n",
            "0 loss=1.92e-06\n",
            "10000 loss=9.71e-05\n",
            "20000 loss=2.86e-06\n",
            "30000 loss=0.000107\n",
            "40000 loss=2.1e-08\n",
            "Nb of errors (training set): 411 (0.88%)\n",
            "Nb of errors (test set): 632 (2.7%)\n",
            "starting epoch 14\n",
            "0 loss=5.6e-07\n",
            "10000 loss=7.09e-05\n",
            "20000 loss=1.79e-05\n",
            "30000 loss=0.000146\n",
            "40000 loss=7.76e-09\n",
            "Nb of errors (training set): 356 (0.76%)\n",
            "Nb of errors (test set): 601 (2.6%)\n",
            "starting epoch 15\n",
            "0 loss=2.95e-06\n",
            "10000 loss=0.00126\n",
            "20000 loss=2.83e-05\n",
            "30000 loss=3.98e-05\n",
            "40000 loss=9.84e-09\n",
            "Nb of errors (training set): 366 (0.78%)\n",
            "Nb of errors (test set): 603 (2.6%)\n",
            "starting epoch 16\n",
            "0 loss=3.15e-07\n",
            "10000 loss=0.000114\n",
            "20000 loss=0.00038\n",
            "30000 loss=7.18e-05\n",
            "40000 loss=1.92e-08\n",
            "Nb of errors (training set): 342 (0.73%)\n",
            "Nb of errors (test set): 594 (2.5%)\n",
            "starting epoch 17\n",
            "0 loss=1.04e-07\n",
            "10000 loss=2.74e-05\n",
            "20000 loss=4e-06\n",
            "30000 loss=0.000113\n",
            "40000 loss=9.18e-10\n",
            "Nb of errors (training set): 339 (0.73%)\n",
            "Nb of errors (test set): 593 (2.5%)\n",
            "starting epoch 18\n",
            "0 loss=2.68e-08\n",
            "10000 loss=0.000296\n",
            "20000 loss=6.92e-06\n",
            "30000 loss=0.00067\n",
            "40000 loss=1.13e-09\n",
            "Nb of errors (training set): 332 (0.71%)\n",
            "Nb of errors (test set): 591 (2.5%)\n",
            "starting epoch 19\n",
            "0 loss=3.46e-08\n",
            "10000 loss=0.000177\n",
            "20000 loss=6.82e-06\n",
            "30000 loss=7.71e-05\n",
            "40000 loss=1.02e-10\n",
            "Nb of errors (training set): 304 (0.65%)\n",
            "Nb of errors (test set): 599 (2.6%)\n",
            "starting epoch 20\n",
            "0 loss=2.52e-07\n",
            "10000 loss=9.93e-05\n",
            "20000 loss=1.93e-05\n",
            "30000 loss=0.00011\n",
            "40000 loss=1.01e-09\n",
            "Nb of errors (training set): 308 (0.66%)\n",
            "Nb of errors (test set): 587 (2.5%)\n",
            "starting epoch 21\n",
            "0 loss=1.47e-05\n",
            "10000 loss=3.01e-05\n",
            "20000 loss=1.65e-05\n",
            "30000 loss=0.000146\n",
            "40000 loss=2.44e-09\n",
            "Nb of errors (training set): 295 (0.63%)\n",
            "Nb of errors (test set): 562 (2.4%)\n",
            "starting epoch 22\n",
            "0 loss=7.12e-06\n",
            "10000 loss=0.000586\n",
            "20000 loss=0.000168\n",
            "30000 loss=7.83e-06\n",
            "40000 loss=2.37e-10\n",
            "Nb of errors (training set): 293 (0.63%)\n",
            "Nb of errors (test set): 560 (2.4%)\n",
            "starting epoch 23\n",
            "0 loss=4.15e-07\n",
            "10000 loss=2.5e-05\n",
            "20000 loss=1.02e-05\n",
            "30000 loss=7.81e-05\n",
            "40000 loss=4.33e-10\n",
            "Nb of errors (training set): 289 (0.62%)\n",
            "Nb of errors (test set): 571 (2.4%)\n",
            "starting epoch 24\n",
            "0 loss=6.79e-05\n",
            "10000 loss=7.41e-05\n",
            "20000 loss=3.69e-05\n",
            "30000 loss=7.79e-06\n",
            "40000 loss=1.43e-10\n",
            "Nb of errors (training set): 272 (0.58%)\n",
            "Nb of errors (test set): 581 (2.5%)\n",
            "starting epoch 25\n",
            "0 loss=4.89e-07\n",
            "10000 loss=2.91e-05\n",
            "20000 loss=1.77e-05\n",
            "30000 loss=5.57e-05\n",
            "40000 loss=6.04e-11\n",
            "Nb of errors (training set): 272 (0.58%)\n",
            "Nb of errors (test set): 569 (2.4%)\n",
            "starting epoch 26\n",
            "0 loss=2.6e-08\n",
            "10000 loss=1.14e-05\n",
            "20000 loss=4.02e-06\n",
            "30000 loss=5.87e-06\n",
            "40000 loss=6.27e-10\n",
            "Nb of errors (training set): 268 (0.57%)\n",
            "Nb of errors (test set): 562 (2.4%)\n",
            "starting epoch 27\n",
            "0 loss=1.19e-06\n",
            "10000 loss=2.78e-05\n",
            "20000 loss=2.02e-05\n",
            "30000 loss=4.98e-07\n",
            "40000 loss=2.47e-10\n",
            "Nb of errors (training set): 269 (0.58%)\n",
            "Nb of errors (test set): 574 (2.5%)\n",
            "starting epoch 28\n",
            "0 loss=8.14e-08\n",
            "10000 loss=2.5e-05\n",
            "20000 loss=7.85e-06\n",
            "30000 loss=5.44e-06\n",
            "40000 loss=2.76e-10\n",
            "Nb of errors (training set): 263 (0.56%)\n",
            "Nb of errors (test set): 569 (2.4%)\n",
            "starting epoch 29\n",
            "0 loss=1.53e-08\n",
            "10000 loss=2.08e-05\n",
            "20000 loss=1.84e-05\n",
            "30000 loss=3.03e-06\n",
            "40000 loss=1.82e-10\n",
            "Nb of errors (training set): 262 (0.56%)\n",
            "Nb of errors (test set): 567 (2.4%)\n",
            "starting epoch 30\n",
            "0 loss=5.72e-09\n",
            "10000 loss=2.81e-05\n",
            "20000 loss=1.19e-05\n",
            "30000 loss=1.57e-06\n",
            "40000 loss=2.65e-10\n",
            "Nb of errors (training set): 258 (0.55%)\n",
            "Nb of errors (test set): 567 (2.4%)\n",
            "starting epoch 31\n",
            "0 loss=8.13e-09\n",
            "10000 loss=2.77e-05\n",
            "20000 loss=7.33e-06\n",
            "30000 loss=0.000123\n",
            "40000 loss=2.62e-10\n",
            "Nb of errors (training set): 252 (0.54%)\n",
            "Nb of errors (test set): 560 (2.4%)\n",
            "starting epoch 32\n",
            "0 loss=1.25e-08\n",
            "10000 loss=2.34e-05\n",
            "20000 loss=3.46e-06\n",
            "30000 loss=1e-05\n",
            "40000 loss=7.85e-11\n",
            "Nb of errors (training set): 255 (0.55%)\n",
            "Nb of errors (test set): 558 (2.4%)\n",
            "starting epoch 33\n",
            "0 loss=2.9e-08\n",
            "10000 loss=0.000601\n",
            "20000 loss=4.2e-06\n",
            "30000 loss=4.66e-05\n",
            "40000 loss=3.14e-10\n",
            "Nb of errors (training set): 248 (0.53%)\n",
            "Nb of errors (test set): 556 (2.4%)\n",
            "starting epoch 34\n",
            "0 loss=9.23e-08\n",
            "10000 loss=6.52e-05\n",
            "20000 loss=1.18e-05\n",
            "30000 loss=8.89e-07\n",
            "40000 loss=3.45e-10\n",
            "Nb of errors (training set): 245 (0.53%)\n",
            "Nb of errors (test set): 560 (2.4%)\n",
            "starting epoch 35\n",
            "0 loss=3.96e-08\n",
            "10000 loss=3.6e-05\n",
            "20000 loss=5.3e-06\n",
            "30000 loss=1.41e-06\n",
            "40000 loss=7.38e-10\n",
            "Nb of errors (training set): 243 (0.52%)\n",
            "Nb of errors (test set): 559 (2.4%)\n",
            "Done.\n"
          ]
        }
      ],
      "source": [
        "# Learning loop\n",
        "for epoch in range(num_epochs):\n",
        "    print(\"starting epoch\", epoch)\n",
        "    for beg_i in range(0, X_train.size(0), batch_size):\n",
        "        x_batch = X_train[ beg_i:beg_i + batch_size, :]\n",
        "        y_batch = Y_train[ beg_i:beg_i + batch_size]        \n",
        "        # forward:\n",
        "        outputs = net(x_batch)\n",
        "        loss = criterion(outputs, y_batch)\n",
        "        # reset gradients\n",
        "        optimizer.zero_grad()\n",
        "        loss.backward()\n",
        "        optimizer.step()\n",
        "        losses.append(loss.data.item())\n",
        "        if (beg_i//batch_size) % 1000 == 0: \n",
        "            # print cost after 1000 updates (mini-batches):\n",
        "            print(beg_i, 'loss=%3.3g' % losses[-1])\n",
        "    \n",
        "    # Measure error rate after each epoch\n",
        "    train_nb_err = nb_classif_errors( Y_train, net(X_train) ) \n",
        "    train_err_rates.append( train_nb_err*100/len(Y_train) )\n",
        "    test_nb_err = nb_classif_errors( Y_test, net(X_test) ) \n",
        "    test_err_rates.append( test_nb_err*100/len(Y_test) )\n",
        "    print(\"Nb of errors (training set):\", train_nb_err, \"(%3.2g%%)\" % train_err_rates[-1])\n",
        "    print(\"Nb of errors (test set):\", test_nb_err, \"(%3.2g%%)\" % test_err_rates[-1])\n",
        "\n",
        "\n",
        "print(\"Done.\")"
      ]
    },
    {
      "cell_type": "code",
      "execution_count": null,
      "metadata": {
        "id": "0J0nwrGqwRZX",
        "outputId": "8885e2ad-f6b7-4fdd-9c37-6622c3ed6fee"
      },
      "outputs": [
        {
          "data": {
            "image/png": "[encoded data removed]",
            "text/plain": [
              "<Figure size 1296x1152 with 2 Axes>"
            ]
          },
          "metadata": {
            "needs_background": "light"
          },
          "output_type": "display_data"
        }
      ],
      "source": [
        "plt.figure(figsize=(18, 16))\n",
        "plt.subplot(1,2,1)\n",
        "plt.plot(losses, linestyle='', marker='.')\n",
        "plt.title('MSE cost')\n",
        "plt.subplot(1,2,2)\n",
        "plt.plot(train_err_rates, label=\"Train\")\n",
        "plt.plot(test_err_rates, label=\"Test\")\n",
        "plt.title('Classif. error')\n",
        "jnk=plt.legend()"
      ]
    },
    {
      "cell_type": "markdown",
      "metadata": {
        "id": "77SmaFjwwRZY"
      },
      "source": [
        "## Display the 12 first errors on the testing set:"
      ]
    },
    {
      "cell_type": "code",
      "execution_count": null,
      "metadata": {
        "scrolled": true,
        "id": "fTowJsk3wRZY",
        "outputId": "7c22b6fd-5dd2-4932-b80c-a0c725080a4c"
      },
      "outputs": [
        {
          "data": {
            "image/png": "[encoded data removed]",
            "text/plain": [
              "<Figure size 864x576 with 12 Axes>"
            ]
          },
          "metadata": {
            "needs_background": "light"
          },
          "output_type": "display_data"
        }
      ],
      "source": [
        "Y_pred = net(X_test)\n",
        "test_errors_idx = idx_classif_errors( Y_test, Y_pred )[:12]\n",
        "\n",
        "fig = plt.figure(figsize=(12,8))\n",
        "ncols = 6\n",
        "nrows = len(test_errors_idx) // ncols + 1\n",
        "index = 1\n",
        "for i in test_errors_idx:\n",
        "    plt.subplot(nrows, ncols, index)\n",
        "    plt.imshow( X_test[i].reshape(ImHeight,ImWidth), cmap=plt.cm.gray)\n",
        "    plt.axis('off')\n",
        "    true_class = torch.argmax(Y_test[i])\n",
        "    pred_class = torch.argmax(Y_pred[i])\n",
        "    plt.title(f'{true_class} => {pred_class}')\n",
        "    index += 1\n",
        "\n",
        "    "
      ]
    },
    {
      "cell_type": "markdown",
      "metadata": {
        "id": "Fx-IcskiwRZY"
      },
      "source": [
        "# Questions \n",
        "\n",
        "1. What does each point on the MSE (left) graph represent ?\n",
        "\n",
        "2. Compute and print the confusion matrix on the training test and on the test set. What classes are confused with each other ?\n",
        "\n",
        "3. Looking at the classification error curves (right), do you think the network is underfitting or overfitting ? What could we do to enhance generalization ? Make some experiments and discuss the results.\n"
      ]
    },
    {
      "cell_type": "code",
      "execution_count": null,
      "metadata": {
        "id": "aKD8xS5rwRZY"
      },
      "outputs": [],
      "source": [
        ""
      ]
    }
  ],
  "metadata": {
    "kernelspec": {
      "display_name": "Python 3",
      "language": "python",
      "name": "python3"
    },
    "language_info": {
      "codemirror_mode": {
        "name": "ipython",
        "version": 3
      },
      "file_extension": ".py",
      "mimetype": "text/x-python",
      "name": "python",
      "nbconvert_exporter": "python",
      "pygments_lexer": "ipython3",
      "version": "3.8.5"
    },
    "colab": {
      "name": "03-classif-MNIST-fullconnect.ipynb",
      "provenance": []
    }
  },
  "nbformat": 4,
  "nbformat_minor": 0
}