{
  "cells": [
    {
      "cell_type": "markdown",
      "source": [
        "**Recopiez ce notebook et envoyez-moi le lien à la fin de la séance.**\n",
        "\n",
        "Votre **nom**:PHAM\n",
        "\n",
        "\n",
        "Votre **prénom**: Duc Thinh\n",
        "\n",
        "\n",
        "*Observations/commentaires éventuels de l'étudiant à l'enseignant*:\n",
        "\n"
      ],
      "metadata": {
        "id": "oTGiD__9uQ4q"
      }
    },
    {
      "cell_type": "markdown",
      "metadata": {
        "id": "eKg4KYskuOU1"
      },
      "source": [
        "# MLP Neural Networks for 2d classification\n",
        "\n",
        "This notebook will show you how to use **PyTorch** to build simple neural network.\n",
        "We will use these networks to classify points from 2 classes in the plane (2 dimensions).\n",
        "\n",
        "\n",
        "We start with a linear model, then a fully connected MLP with two hidden layers:\n",
        " * input retina with 2 neurons ($(x,y)$)\n",
        " * a linear layer + ReLu with N1 neurons\n",
        " * another one with N2 neurons\n",
        " * output layer, with one neuron per class.\n",
        " \n",
        "As it is a classification problem, we will use the cross-entropy cost function (`CrossEntropyLoss`).\n",
        "\n",
        "Please note that in order to keep the code simple, we use all the available data for training, and don't use any evaluation/test sets (this a _bad_ practice, but we're just playing here !).\n",
        "\n",
        "*Emmanuel Viennet, 2019-12-15, 2021-01-03, 2022-01-11*"
      ]
    },
    {
      "cell_type": "markdown",
      "metadata": {
        "id": "c_UCU_V2uOU5"
      },
      "source": [
        "# Initialization and Helper functions"
      ]
    },
    {
      "cell_type": "code",
      "execution_count": 1,
      "metadata": {
        "ExecuteTime": {
          "end_time": "2021-01-03T16:48:10.238954Z",
          "start_time": "2021-01-03T16:48:08.283940Z"
        },
        "id": "1cKCjSaBuOU6"
      },
      "outputs": [],
      "source": [
        "%matplotlib inline\n",
        "import numpy as np\n",
        "import pandas as pd\n",
        "import matplotlib.pyplot as plt\n",
        "from matplotlib import gridspec\n",
        "plt.rcParams[\"figure.figsize\"] = (12, 8) # (w, h)\n",
        "from collections import OrderedDict\n",
        "import copy\n",
        "\n",
        "import sklearn, sklearn.datasets # used to generate a dataset\n",
        "\n",
        "import torch\n",
        "import torch.nn as nn\n",
        "import torch.nn.functional as F"
      ]
    },
    {
      "cell_type": "code",
      "execution_count": 2,
      "metadata": {
        "ExecuteTime": {
          "end_time": "2021-01-03T16:48:10.248982Z",
          "start_time": "2021-01-03T16:48:10.241128Z"
        },
        "id": "0XAxZSWSuOU7"
      },
      "outputs": [],
      "source": [
        "def plot_data(X, y, figsize=None, newfig=True):\n",
        "    \"A simple data plot\"\n",
        "    if newfig:\n",
        "        plt.figure(figsize=figsize)\n",
        "    plt.plot(X[y!=1, 0], X[y!=1, 1], 'or', alpha=0.9, label=0, markersize=8)\n",
        "    plt.plot(X[y==1, 0], X[y==1, 1], 'ob', alpha=0.9, label=1, markersize=9)\n",
        "    plt.xlim((min(X[:, 0])-0.1, max(X[:, 0])+0.1))\n",
        "    plt.ylim((min(X[:, 1])-0.1, max(X[:, 1])+0.1))\n",
        "    plt.legend()\n",
        "\n",
        "def subplot_2d_model(ax, X, y, model, subtitle=\"\", step=0.001):\n",
        "    \"\"\"Plot data and model output classes\"\"\"\n",
        "    if subtitle:\n",
        "        ax.set_title(subtitle)\n",
        "    # use a mesh grid\n",
        "    # point in the mesh [x_min, x_max]x[y_min, y_max].\n",
        "    x_min, x_max = X[:, 0].min() - 1, X[:, 0].max() + 1\n",
        "    y_min, y_max = X[:, 1].min() - 1, X[:, 1].max() + 1\n",
        "    # Generates a meshgrid and apply the model on each point of the grid\n",
        "    xx, yy = np.meshgrid(np.arange(x_min, x_max, step), np.arange(y_min, y_max, step))\n",
        "    Xgrid = torch.Tensor(np.c_[xx.ravel(), yy.ravel()])\n",
        "    Ygrid = model(Xgrid).detach().numpy()\n",
        "    # The class is given by the max output\n",
        "    Ygrid_class = np.argmax(Ygrid, axis=1).reshape(xx.shape)\n",
        "    \n",
        "    # Display points of the mesh\n",
        "    plt.imshow(Ygrid_class, interpolation='nearest',\n",
        "           extent=(xx.min(), xx.max(), yy.min(), yy.max()),\n",
        "           cmap=plt.cm.Set3_r,\n",
        "           aspect='auto', origin='lower')\n",
        "    # Add the sample points (training set):\n",
        "    plot_data(X, y, newfig=False)\n",
        "    \n",
        "def plot_2d_model(X, y, model, title=\"\", step=0.001):\n",
        "    \"\"\"Display the sample and the classes computed by the NN model\"\"\"\n",
        "    fig = plt.figure(figsize=(18, 16))\n",
        "    ax = fig.add_subplot( 111 )\n",
        "    subplot_2d_model(ax, X, y, model, step=step)\n",
        "    plt.title(title)\n",
        "    return plt"
      ]
    },
    {
      "cell_type": "markdown",
      "metadata": {
        "id": "e1ibF5tNuOU8"
      },
      "source": [
        "### Confusion Matrix (for classification)\n",
        "The confusion matrix allows to count the distinct types of errors of a classifier.\n",
        "The cell $(i, j)$ gives the number of examples from class $i$ classified by the model in class $j$.\n"
      ]
    },
    {
      "cell_type": "code",
      "execution_count": 3,
      "metadata": {
        "ExecuteTime": {
          "end_time": "2021-01-03T16:48:10.256037Z",
          "start_time": "2021-01-03T16:48:10.253340Z"
        },
        "id": "E16mEggcuOU8"
      },
      "outputs": [],
      "source": [
        "def confusion_matrix( y, y_pred ):     #sổ bảng các phần tử có giá trị khác giữa real và predict\n",
        "    \"\"\"Confusion matrix\n",
        "    CM[b,c] = number of example from class b classified by the model in class c\n",
        "    \"\"\"\n",
        "    # y et y_pred are vectors containing the index of classes (0, .., nbClass)\n",
        "    NbClass = len(np.unique(y)) # number of classes\n",
        "    CM = np.zeros((NbClass,NbClass))\n",
        "    # The predicted class is given by the max of the output\n",
        "    for i in range(len(x_data)):\n",
        "        real_class = y[i]\n",
        "        pred_class = np.argmax(y_pred[i])      # trả về index của max\n",
        "        #print(\"real\", real_class, \"predicted\", pred_class)\n",
        "        CM[real_class, pred_class] += 1                    #purpose: cộng giá trị váo đường chéo\n",
        "    return CM"
      ]
    },
    {
      "cell_type": "markdown",
      "metadata": {
        "id": "E3x9iNFBuOU9"
      },
      "source": [
        "# Setup data"
      ]
    },
    {
      "cell_type": "code",
      "execution_count": 4,
      "metadata": {
        "ExecuteTime": {
          "end_time": "2021-01-03T16:48:10.394959Z",
          "start_time": "2021-01-03T16:48:10.257320Z"
        },
        "id": "fLjF1rSYuOU-",
        "colab": {
          "base_uri": "https://localhost:8080/",
          "height": 553
        },
        "outputId": "3d54f7cd-790a-4596-ba6e-8479eeb70e42"
      },
      "outputs": [
        {
          "output_type": "stream",
          "name": "stdout",
          "text": [
            "Number of examples 100\n",
            "X.mean =  [0.51339765 0.49191772]\n",
            "Number of classes: 2\n",
            "min(y)= 0 max(y)= 1\n"
          ]
        },
        {
          "output_type": "display_data",
          "data": {
            "image/png": "[encoded data removed]",
            "text/plain": [
              "<Figure size 864x576 with 1 Axes>"
            ]
          },
          "metadata": {
            "needs_background": "light"
          }
        }
      ],
      "source": [
        "X, y = sklearn.datasets.make_moons(n_samples=100, shuffle=True, noise=0.2, random_state=0)\n",
        "# X[:,0] = (X[:,0]+1)/3 - 0.5\n",
        "X = (X - X.min(axis=0)) / (X.max(axis=0)-X.min(axis=0))\n",
        "N = X.shape[0]\n",
        "print(\"Number of examples\", N)\n",
        "print(\"X.mean = \", X.mean(axis=0))\n",
        "NbClass = len(np.unique(y)) # number of distinct classes\n",
        "print(\"Number of classes:\", NbClass)\n",
        "print(\"min(y)=\", min(y), \"max(y)=\", max(y))\n",
        "\n",
        "# Display data\n",
        "plot_data(X,y, figsize=(12,8))"
      ]
    },
    {
      "cell_type": "code",
      "source": [
        "NbClass"
      ],
      "metadata": {
        "colab": {
          "base_uri": "https://localhost:8080/"
        },
        "id": "mzrGTkk-oKXJ",
        "outputId": "3e8e62e9-73f7-465d-dd8a-957e84d3207a"
      },
      "execution_count": 5,
      "outputs": [
        {
          "output_type": "execute_result",
          "data": {
            "text/plain": [
              "2"
            ]
          },
          "metadata": {},
          "execution_count": 5
        }
      ]
    },
    {
      "cell_type": "code",
      "source": [
        "X"
      ],
      "metadata": {
        "colab": {
          "base_uri": "https://localhost:8080/"
        },
        "id": "TR8IYJ-soarP",
        "outputId": "20cf62ec-9ff9-4819-cbd6-ea595cad67d7"
      },
      "execution_count": 6,
      "outputs": [
        {
          "output_type": "execute_result",
          "data": {
            "text/plain": [
              "array([[0.35990046, 0.83776767],\n",
              "       [0.95393632, 0.33287715],\n",
              "       [0.63909707, 0.38014293],\n",
              "       [0.35724712, 0.40061025],\n",
              "       [0.63252873, 0.14246251],\n",
              "       [0.97897095, 0.60529188],\n",
              "       [0.5291048 , 0.61769586],\n",
              "       [0.6442571 , 0.07772523],\n",
              "       [0.36061065, 0.54156242],\n",
              "       [0.9035326 , 0.53172221],\n",
              "       [0.30921891, 0.61880081],\n",
              "       [0.95447302, 0.29932854],\n",
              "       [0.78581566, 0.08290439],\n",
              "       [0.67576293, 0.86326871],\n",
              "       [0.5469006 , 0.61737816],\n",
              "       [0.25525221, 0.86965419],\n",
              "       [0.43946002, 0.9117923 ],\n",
              "       [0.42730748, 0.78847465],\n",
              "       [0.26383819, 0.75265022],\n",
              "       [0.68326906, 0.62786316],\n",
              "       [0.15091032, 0.64211591],\n",
              "       [0.4841675 , 0.2941593 ],\n",
              "       [0.59844385, 0.64321268],\n",
              "       [0.58215122, 0.17080269],\n",
              "       [0.13465356, 0.38295708],\n",
              "       [0.11385503, 0.27644367],\n",
              "       [0.57722988, 0.53670508],\n",
              "       [1.        , 0.45319802],\n",
              "       [0.89385089, 0.37738804],\n",
              "       [0.76982038, 0.27585296],\n",
              "       [0.47795178, 0.32418547],\n",
              "       [0.70924523, 0.        ],\n",
              "       [0.92046861, 0.3734066 ],\n",
              "       [0.50672415, 0.22107616],\n",
              "       [0.37715034, 0.6236396 ],\n",
              "       [0.31251879, 0.84115129],\n",
              "       [0.42854505, 0.82955942],\n",
              "       [0.40677405, 0.47841453],\n",
              "       [0.34503797, 0.40609024],\n",
              "       [0.66539857, 0.11603419],\n",
              "       [0.76732751, 0.37974441],\n",
              "       [0.51551898, 0.24070179],\n",
              "       [0.09763366, 0.46433687],\n",
              "       [0.06186958, 0.50057725],\n",
              "       [0.66548949, 0.5380781 ],\n",
              "       [0.60686716, 0.93274455],\n",
              "       [0.54495534, 1.        ],\n",
              "       [0.20547275, 0.69005395],\n",
              "       [0.0818728 , 0.53237939],\n",
              "       [0.61321456, 0.47895524],\n",
              "       [0.8316173 , 0.38301795],\n",
              "       [0.30303246, 0.3049664 ],\n",
              "       [0.607704  , 0.52051451],\n",
              "       [0.20314601, 0.71670227],\n",
              "       [0.40520711, 0.62049021],\n",
              "       [0.40229221, 0.50939402],\n",
              "       [0.54513356, 0.78347231],\n",
              "       [0.25641639, 0.58023698],\n",
              "       [0.41750418, 0.94026621],\n",
              "       [0.34258095, 0.61244591],\n",
              "       [0.57080704, 0.7059157 ],\n",
              "       [0.24815513, 0.82719996],\n",
              "       [0.45285937, 0.29958806],\n",
              "       [0.39858591, 0.27776818],\n",
              "       [0.63473966, 0.06900655],\n",
              "       [0.74483425, 0.22800344],\n",
              "       [0.28723969, 0.81336774],\n",
              "       [0.83803781, 0.14219748],\n",
              "       [0.57460361, 0.67962502],\n",
              "       [0.97987204, 0.15476531],\n",
              "       [0.44694514, 0.78706494],\n",
              "       [0.14454152, 0.80665997],\n",
              "       [0.08649078, 0.4059241 ],\n",
              "       [0.96747128, 0.47834388],\n",
              "       [0.99266864, 0.5919831 ],\n",
              "       [0.49983866, 0.10923774],\n",
              "       [0.4610522 , 0.87151654],\n",
              "       [0.90639946, 0.55238868],\n",
              "       [0.57511891, 0.17251915],\n",
              "       [0.73699674, 0.15910926],\n",
              "       [0.33241011, 0.91739496],\n",
              "       [0.17884494, 0.81269974],\n",
              "       [0.76201001, 0.25711962],\n",
              "       [0.08972038, 0.56754528],\n",
              "       [0.09710342, 0.33566552],\n",
              "       [0.41100262, 0.36766973],\n",
              "       [0.41555018, 0.36437662],\n",
              "       [0.58189875, 0.57624431],\n",
              "       [0.87635445, 0.29930865],\n",
              "       [0.53640868, 0.27775076],\n",
              "       [0.8689701 , 0.22391684],\n",
              "       [0.13141567, 0.69002832],\n",
              "       [0.44585042, 0.77318991],\n",
              "       [0.79073076, 0.08201918],\n",
              "       [0.6813398 , 0.65015973],\n",
              "       [0.90168897, 0.61070154],\n",
              "       [0.46073995, 0.12510658],\n",
              "       [0.5916138 , 0.21230159],\n",
              "       [0.        , 0.53269577],\n",
              "       [0.00861726, 0.48824815]])"
            ]
          },
          "metadata": {},
          "execution_count": 6
        }
      ]
    },
    {
      "cell_type": "code",
      "source": [
        "y"
      ],
      "metadata": {
        "colab": {
          "base_uri": "https://localhost:8080/"
        },
        "id": "kSoNIwa2oeMP",
        "outputId": "04f5084a-bc88-4860-c4b1-3cb943087243"
      },
      "execution_count": 7,
      "outputs": [
        {
          "output_type": "execute_result",
          "data": {
            "text/plain": [
              "array([0, 1, 0, 1, 1, 1, 0, 1, 1, 1, 1, 1, 1, 0, 0, 0, 0, 0, 0, 0, 0, 1,\n",
              "       0, 1, 0, 0, 0, 1, 1, 1, 1, 1, 1, 1, 1, 0, 0, 1, 1, 1, 0, 1, 0, 0,\n",
              "       0, 0, 0, 0, 0, 0, 1, 1, 0, 0, 0, 1, 0, 0, 0, 1, 0, 0, 1, 1, 1, 1,\n",
              "       0, 1, 0, 1, 0, 0, 0, 1, 1, 1, 0, 1, 1, 1, 0, 0, 1, 0, 0, 1, 1, 0,\n",
              "       1, 1, 1, 0, 0, 1, 0, 1, 1, 1, 0, 0])"
            ]
          },
          "metadata": {},
          "execution_count": 7
        }
      ]
    },
    {
      "cell_type": "code",
      "execution_count": 8,
      "metadata": {
        "ExecuteTime": {
          "end_time": "2021-01-03T16:48:10.401756Z",
          "start_time": "2021-01-03T16:48:10.397004Z"
        },
        "id": "YQaoPtvquOU_",
        "colab": {
          "base_uri": "https://localhost:8080/"
        },
        "outputId": "403be3d7-366b-4337-dee3-c1ab4aade864"
      },
      "outputs": [
        {
          "output_type": "stream",
          "name": "stdout",
          "text": [
            "X.dtype= float64\n",
            "y.dtype= int64\n",
            "y_data.dtype= torch.int64\n",
            "x_data.dtype= torch.float32\n"
          ]
        }
      ],
      "source": [
        "# Data formating\n",
        "# from_numpy converts a Numpy array to a Tensor.\n",
        "print(\"X.dtype=\", X.dtype)\n",
        "x_data = torch.Tensor(X)\n",
        "y_data = torch.from_numpy(y)\n",
        "# Have a look at the data types:\n",
        "print(\"y.dtype=\", y.dtype)\n",
        "print(\"y_data.dtype=\", y_data.dtype)\n",
        "print(\"x_data.dtype=\", x_data.dtype)"
      ]
    },
    {
      "cell_type": "markdown",
      "metadata": {
        "id": "rN2KP-QCuOU_"
      },
      "source": [
        "Note that PyTorch uses `float32` type for input tensors, in order to reduce memory footprint and accelerate computations."
      ]
    },
    {
      "cell_type": "markdown",
      "metadata": {
        "id": "Lvauwpb_uOVA"
      },
      "source": [
        "# A Linear Model\n",
        "\n",
        "This model is a neural network with one linear layer (`nn.Linear`) with `NbClass`output cells\n",
        "(no hideen layers). Each output cell thus computes a dot product between the input and its weights.\n",
        "\n",
        "The class is given by the most active output cell.\n",
        "\n",
        "In PyTorch, you just need to define the `__init__` function which is bluilding the network (defining its architecture), and a `forward` function, which computes the output given the input. The gradients are automatically computed !"
      ]
    },
    {
      "cell_type": "code",
      "execution_count": 9,
      "metadata": {
        "ExecuteTime": {
          "end_time": "2021-01-03T16:48:10.407794Z",
          "start_time": "2021-01-03T16:48:10.403792Z"
        },
        "id": "T9m9c313uOVA"
      },
      "outputs": [],
      "source": [
        "class LinearNNModel(nn.Module):\n",
        "    def __init__(self):\n",
        "        super(LinearNNModel, self).__init__()\n",
        "        self.linear_layer = nn.Linear(2, NbClass)\n",
        "    \n",
        "    def forward(self, x):\n",
        "        x = self.linear_layer(x)\n",
        "        return x\n",
        "\n",
        "model = LinearNNModel()"
      ]
    },
    {
      "cell_type": "code",
      "execution_count": 10,
      "metadata": {
        "ExecuteTime": {
          "end_time": "2021-01-03T16:48:10.414076Z",
          "start_time": "2021-01-03T16:48:10.411944Z"
        },
        "id": "G7dPc1houOVA"
      },
      "outputs": [],
      "source": [
        "# The criteria to optmize (cost)\n",
        "criterion = nn.CrossEntropyLoss()"
      ]
    },
    {
      "cell_type": "markdown",
      "metadata": {
        "id": "2IMGvjU9uOVB"
      },
      "source": [
        "PyTorch proposes several opmization algorithms. SGD is a good starting choice. We specify the learning rate (lr) and a momentum (an opmization trick stabilizing the convergence).\n"
      ]
    },
    {
      "cell_type": "code",
      "execution_count": 11,
      "metadata": {
        "ExecuteTime": {
          "end_time": "2021-01-03T16:48:10.418337Z",
          "start_time": "2021-01-03T16:48:10.416113Z"
        },
        "id": "q_uUugE9uOVB"
      },
      "outputs": [],
      "source": [
        "optimizer = torch.optim.SGD(model.parameters(), lr=0.01, momentum=0.9)     # momentum là momen hướng của giá trị "
      ]
    },
    {
      "cell_type": "code",
      "execution_count": 12,
      "metadata": {
        "ExecuteTime": {
          "end_time": "2021-01-03T16:48:10.574459Z",
          "start_time": "2021-01-03T16:48:10.419575Z"
        },
        "id": "ULUlpQC8uOVB",
        "colab": {
          "base_uri": "https://localhost:8080/",
          "height": 282
        },
        "outputId": "f6681069-01e1-4ef7-8b8d-780f96764646"
      },
      "outputs": [
        {
          "output_type": "stream",
          "name": "stdout",
          "text": [
            "0.5628262162208557\n"
          ]
        },
        {
          "output_type": "display_data",
          "data": {
            "image/png": "[encoded data removed]",
            "text/plain": [
              "<Figure size 432x288 with 1 Axes>"
            ]
          },
          "metadata": {
            "needs_background": "light"
          }
        }
      ],
      "source": [
        "# Learning loop\n",
        "batch_size = 100\n",
        "num_epochs = 50\n",
        "\n",
        "losses = []\n",
        "for epoch in range(num_epochs):\n",
        "    for beg_i in range(0, x_data.size(0), batch_size):\n",
        "        x_batch = x_data[ beg_i:beg_i + batch_size, :]\n",
        "        y_batch = y_data[ beg_i:beg_i + batch_size]\n",
        "        # reset gradients to zero:\n",
        "        optimizer.zero_grad()\n",
        "        # forward:\n",
        "        outputs = model(x_batch)\n",
        "        loss = criterion(outputs, y_batch)\n",
        "        # backpropagation\n",
        "        loss.backward()\n",
        "        optimizer.step()\n",
        "        losses.append(loss.data.item())\n",
        "\n",
        "plt.plot(losses, label=\"loss\")\n",
        "plt.legend()\n",
        "print(losses[-1])"
      ]
    },
    {
      "cell_type": "code",
      "execution_count": 13,
      "metadata": {
        "ExecuteTime": {
          "end_time": "2021-01-03T16:48:11.396756Z",
          "start_time": "2021-01-03T16:48:10.576106Z"
        },
        "id": "XQ05oSPxuOVC",
        "colab": {
          "base_uri": "https://localhost:8080/",
          "height": 900
        },
        "outputId": "8ac65fc1-9265-4507-aba6-78f509854178"
      },
      "outputs": [
        {
          "output_type": "display_data",
          "data": {
            "image/png": "[encoded data removed]",
            "text/plain": [
              "<Figure size 1296x1152 with 1 Axes>"
            ]
          },
          "metadata": {
            "needs_background": "light"
          }
        }
      ],
      "source": [
        "jnk=plot_2d_model(X, y, model, \"Linear Neural Network\")"
      ]
    },
    {
      "cell_type": "code",
      "execution_count": 14,
      "metadata": {
        "ExecuteTime": {
          "end_time": "2021-01-03T16:48:11.402812Z",
          "start_time": "2021-01-03T16:48:11.398608Z"
        },
        "id": "0uF6r-ETuOVC",
        "colab": {
          "base_uri": "https://localhost:8080/"
        },
        "outputId": "d1ca8a03-c511-418c-950e-2c98cc239924"
      },
      "outputs": [
        {
          "output_type": "stream",
          "name": "stdout",
          "text": [
            "[[43.  7.]\n",
            " [12. 38.]]\n"
          ]
        }
      ],
      "source": [
        "# Computes network outputs and convert them back to a NumPy array\n",
        "y_pred = model(x_data).detach().numpy()\n",
        "\n",
        "CM = confusion_matrix(y, y_pred)\n",
        "print(CM)"
      ]
    },
    {
      "cell_type": "markdown",
      "metadata": {
        "id": "hF9ias1HuOVC"
      },
      "source": [
        "# Questions:\n",
        "\n",
        "Write simple code to answer the following questions:\n"
      ]
    },
    {
      "cell_type": "markdown",
      "metadata": {
        "id": "Cx20EdwkuOVC"
      },
      "source": [
        "- How many examples are missclassified ? \n",
        "- What is the error rate in percent ?\n"
      ]
    },
    {
      "cell_type": "code",
      "source": [
        "y"
      ],
      "metadata": {
        "colab": {
          "base_uri": "https://localhost:8080/"
        },
        "id": "4Pjhflo38NzF",
        "outputId": "d4b8d4ad-fd80-45a0-c709-d193a64651e2"
      },
      "execution_count": 15,
      "outputs": [
        {
          "output_type": "execute_result",
          "data": {
            "text/plain": [
              "array([0, 1, 0, 1, 1, 1, 0, 1, 1, 1, 1, 1, 1, 0, 0, 0, 0, 0, 0, 0, 0, 1,\n",
              "       0, 1, 0, 0, 0, 1, 1, 1, 1, 1, 1, 1, 1, 0, 0, 1, 1, 1, 0, 1, 0, 0,\n",
              "       0, 0, 0, 0, 0, 0, 1, 1, 0, 0, 0, 1, 0, 0, 0, 1, 0, 0, 1, 1, 1, 1,\n",
              "       0, 1, 0, 1, 0, 0, 0, 1, 1, 1, 0, 1, 1, 1, 0, 0, 1, 0, 0, 1, 1, 0,\n",
              "       1, 1, 1, 0, 0, 1, 0, 1, 1, 1, 0, 0])"
            ]
          },
          "metadata": {},
          "execution_count": 15
        }
      ]
    },
    {
      "cell_type": "code",
      "source": [
        "y_pred"
      ],
      "metadata": {
        "colab": {
          "base_uri": "https://localhost:8080/"
        },
        "id": "-wqP19dL_QER",
        "outputId": "7e01ed5f-1321-42ed-c859-4662eb098ecb"
      },
      "execution_count": 16,
      "outputs": [
        {
          "output_type": "execute_result",
          "data": {
            "text/plain": [
              "array([[ 5.7524508e-01,  5.1445983e-02],\n",
              "       [-1.8749934e-01,  3.9368138e-01],\n",
              "       [ 8.2490116e-02,  2.5697270e-01],\n",
              "       [ 3.1087700e-01,  1.3901830e-01],\n",
              "       [-5.7318926e-02,  3.0251572e-01],\n",
              "       [-4.0669709e-02,  3.4855142e-01],\n",
              "       [ 3.1151399e-01,  1.6439122e-01],\n",
              "       [-1.0575402e-01,  3.2037830e-01],\n",
              "       [ 3.9419562e-01,  1.1179513e-01],\n",
              "       [-2.7712256e-02,  3.3300921e-01],\n",
              "       [ 4.8063332e-01,  7.5382546e-02],\n",
              "       [-2.0835471e-01,  4.0070084e-01],\n",
              "       [-2.1104032e-01,  3.7648600e-01],\n",
              "       [ 3.4881538e-01,  1.7381269e-01],\n",
              "       [ 2.9768777e-01,  1.7164111e-01],\n",
              "       [ 6.7484343e-01,  2.7258396e-03],\n",
              "       [ 5.5940765e-01,  6.8560012e-02],\n",
              "       [ 4.9356839e-01,  8.8658594e-02],\n",
              "       [ 5.9696460e-01,  2.9917881e-02],\n",
              "       [ 1.9961065e-01,  2.2457737e-01],\n",
              "       [ 6.1611539e-01,  6.7336932e-03],\n",
              "       [ 1.4877780e-01,  2.1185103e-01],\n",
              "       [ 2.7394584e-01,  1.8721452e-01],\n",
              "       [-1.4563799e-03,  2.7642789e-01],\n",
              "       [ 4.7063947e-01,  5.2719999e-02],\n",
              "       [ 4.2166388e-01,  6.5920092e-02],\n",
              "       [ 2.2529206e-01,  2.0024565e-01],\n",
              "       [-1.4946419e-01,  3.8788298e-01],\n",
              "       [-1.1434561e-01,  3.6039475e-01],\n",
              "       [-8.1205487e-02,  3.3090279e-01],\n",
              "       [ 1.7183712e-01,  2.0325279e-01],\n",
              "       [-2.0290405e-01,  3.6237949e-01],\n",
              "       [-1.3716269e-01,  3.7194967e-01],\n",
              "       [ 8.6961687e-02,  2.3577815e-01],\n",
              "       [ 4.3154243e-01,  1.0183043e-01],\n",
              "       [ 6.1360425e-01,  3.1628303e-02],\n",
              "       [ 5.1765710e-01,  8.0827408e-02],\n",
              "       [ 3.2034975e-01,  1.4323947e-01],\n",
              "       [ 3.2356939e-01,  1.3297735e-01],\n",
              "       [-9.8604500e-02,  3.2114673e-01],\n",
              "       [-1.5985012e-02,  3.0882984e-01],\n",
              "       [ 9.2184007e-02,  2.3534974e-01],\n",
              "       [ 5.4859126e-01,  2.1270644e-02],\n",
              "       [ 5.9807336e-01, -5.1859766e-04],\n",
              "       [ 1.5851650e-01,  2.3560435e-01],\n",
              "       [ 4.4393185e-01,  1.3190642e-01],\n",
              "       [ 5.3234506e-01,  9.3270324e-02],\n",
              "       [ 6.0353035e-01,  1.9044146e-02],\n",
              "       [ 6.0212964e-01,  1.1096075e-03],\n",
              "       [ 1.6253325e-01,  2.2648549e-01],\n",
              "       [-6.3240081e-02,  3.3412471e-01],\n",
              "       [ 2.9412401e-01,  1.3652171e-01],\n",
              "       [ 1.9208062e-01,  2.1583340e-01],\n",
              "       [ 6.2155211e-01,  1.2701102e-02],\n",
              "       [ 4.0813002e-01,  1.1379770e-01],\n",
              "       [ 3.4266180e-01,  1.3514802e-01],\n",
              "       [ 4.0025800e-01,  1.3724825e-01],\n",
              "       [ 4.9758273e-01,  6.1881855e-02],\n",
              "       [ 5.9357893e-01,  5.3921051e-02],\n",
              "       [ 4.5120332e-01,  9.0141922e-02],\n",
              "       [ 3.3332813e-01,  1.6334096e-01],\n",
              "       [ 6.5440887e-01,  8.4687695e-03],\n",
              "       [ 1.7606995e-01,  1.9810879e-01],\n",
              "       [ 2.0434983e-01,  1.8061894e-01],\n",
              "       [-1.0377616e-01,  3.1830332e-01],\n",
              "       [-9.1223717e-02,  3.3051658e-01],\n",
              "       [ 6.1603844e-01,  2.7054973e-02],\n",
              "       [-2.1491283e-01,  3.8554901e-01],\n",
              "       [ 3.1439838e-01,  1.7020494e-01],\n",
              "       [-3.1590778e-01,  4.4026986e-01],\n",
              "       [ 4.7766563e-01,  9.6873663e-02],\n",
              "       [ 7.2126633e-01, -2.9202946e-02],\n",
              "       [ 5.2153105e-01,  2.8615940e-02],\n",
              "       [-1.0922152e-01,  3.6964977e-01],\n",
              "       [-5.9273303e-02,  3.5678089e-01],\n",
              "       [ 2.4082780e-02,  2.5567576e-01],\n",
              "       [ 5.1832294e-01,  8.5445248e-02],\n",
              "       [-1.7314374e-02,  3.2997617e-01],\n",
              "       [ 4.9768090e-03,  2.7324036e-01],\n",
              "       [-1.2720335e-01,  3.4132186e-01],\n",
              "       [ 6.4482868e-01,  2.4199791e-02],\n",
              "       [ 6.9866836e-01, -1.6576752e-02],\n",
              "       [-8.6638212e-02,  3.3154777e-01],\n",
              "       [ 6.1754775e-01, -2.8524175e-03],\n",
              "       [ 4.7058603e-01,  4.7147609e-02],\n",
              "       [ 2.4962330e-01,  1.6740289e-01],\n",
              "       [ 2.4413279e-01,  1.6990687e-01],\n",
              "       [ 2.4581033e-01,  1.9411337e-01],\n",
              "       [-1.4852330e-01,  3.6916247e-01],\n",
              "       [ 9.8758623e-02,  2.3627198e-01],\n",
              "       [-1.8880963e-01,  3.8146830e-01],\n",
              "       [ 6.6024697e-01, -1.0853104e-02],\n",
              "       [ 4.7004890e-01,  9.9245124e-02],\n",
              "       [-2.1534508e-01,  3.7865013e-01],\n",
              "       [ 2.1467599e-01,  2.1927720e-01],\n",
              "       [ 2.1829575e-02,  3.1624994e-01],\n",
              "       [ 6.3705146e-02,  2.3667088e-01],\n",
              "       [ 1.6583860e-02,  2.7183381e-01],\n",
              "       [ 6.6504204e-01, -3.2012798e-02],\n",
              "       [ 6.3135457e-01, -1.9520581e-02]], dtype=float32)"
            ]
          },
          "metadata": {},
          "execution_count": 16
        }
      ]
    },
    {
      "cell_type": "code",
      "execution_count": 17,
      "metadata": {
        "id": "SVOdZphauOVD",
        "colab": {
          "base_uri": "https://localhost:8080/"
        },
        "outputId": "d929a3df-e0c9-4798-bbcd-11d6e6eefce3"
      },
      "outputs": [
        {
          "output_type": "execute_result",
          "data": {
            "text/plain": [
              "(1, 0)"
            ]
          },
          "metadata": {},
          "execution_count": 17
        }
      ],
      "source": [
        "y_pred_class = [np.argmax(y_pred[i]) for i in range(len(y_pred))]\n",
        "y_pred_class[2], y[2]"
      ]
    },
    {
      "cell_type": "code",
      "source": [
        "np.where(y_pred_class!=y)"
      ],
      "metadata": {
        "colab": {
          "base_uri": "https://localhost:8080/"
        },
        "id": "A0VRRDLs8hZf",
        "outputId": "bc12e4b6-d9bf-436c-c44c-dea2f85717fa"
      },
      "execution_count": 18,
      "outputs": [
        {
          "output_type": "execute_result",
          "data": {
            "text/plain": [
              "(array([ 2,  3,  8, 10, 19, 34, 37, 38, 40, 44, 49, 51, 52, 55, 59, 63, 85,\n",
              "        86, 94]),)"
            ]
          },
          "metadata": {},
          "execution_count": 18
        }
      ]
    },
    {
      "cell_type": "code",
      "source": [
        "len(np.where(y_pred_class!=y)[0])"
      ],
      "metadata": {
        "colab": {
          "base_uri": "https://localhost:8080/"
        },
        "id": "MPL0tX5T8rdu",
        "outputId": "fba0d0a5-47cb-49f5-c9a1-90ae2178e6e2"
      },
      "execution_count": 19,
      "outputs": [
        {
          "output_type": "execute_result",
          "data": {
            "text/plain": [
              "19"
            ]
          },
          "metadata": {},
          "execution_count": 19
        }
      ]
    },
    {
      "cell_type": "code",
      "source": [
        "error_rate = (len(np.where(y_pred_class!=y)[0]))/(len(y))\n",
        "error_rate"
      ],
      "metadata": {
        "colab": {
          "base_uri": "https://localhost:8080/"
        },
        "id": "Q4w9j8NZ-BbF",
        "outputId": "36a365ef-2ecd-4158-a487-b217db16751d"
      },
      "execution_count": 20,
      "outputs": [
        {
          "output_type": "execute_result",
          "data": {
            "text/plain": [
              "0.19"
            ]
          },
          "metadata": {},
          "execution_count": 20
        }
      ]
    },
    {
      "cell_type": "markdown",
      "metadata": {
        "id": "e6hoAwODuOVD"
      },
      "source": [
        "- What is the last measured value of the cost ? R: Please refer the result below \n",
        "- Did the learning converged ? R: No\n",
        "- Should we use more epochs ? R: Yes"
      ]
    },
    {
      "cell_type": "code",
      "execution_count": 21,
      "metadata": {
        "id": "m0A0K48JuOVD",
        "colab": {
          "base_uri": "https://localhost:8080/"
        },
        "outputId": "4e148573-e5a6-44f9-c48a-a16b5ab3b5c4"
      },
      "outputs": [
        {
          "output_type": "stream",
          "name": "stdout",
          "text": [
            "0.5628262162208557\n"
          ]
        }
      ],
      "source": [
        "print(losses[-1])  #What is the last measured value of the cost ?"
      ]
    },
    {
      "cell_type": "code",
      "source": [
        "#Did the learning converged ? R: Did not converge\n",
        "# Learning loop\n",
        "batch_size = 100\n",
        "num_epochs = 50\n",
        "\n",
        "losses = []\n",
        "for epoch in range(num_epochs):\n",
        "    for beg_i in range(0, x_data.size(0), batch_size):\n",
        "        x_batch = x_data[ beg_i:beg_i + batch_size, :]\n",
        "        y_batch = y_data[ beg_i:beg_i + batch_size]\n",
        "        # reset gradients to zero:\n",
        "        optimizer.zero_grad()\n",
        "        # forward:\n",
        "        outputs = model(x_batch)\n",
        "        loss = criterion(outputs, y_batch)\n",
        "        # backpropagation\n",
        "        loss.backward()\n",
        "        optimizer.step()\n",
        "        losses.append(loss.data.item())\n",
        "\n",
        "plt.plot(losses, label=\"loss\")\n",
        "plt.legend()\n",
        "print(losses[-1])"
      ],
      "metadata": {
        "colab": {
          "base_uri": "https://localhost:8080/",
          "height": 282
        },
        "id": "jknW5R8XAZAX",
        "outputId": "07394b66-beee-4649-df14-17cdfb0ca170"
      },
      "execution_count": 22,
      "outputs": [
        {
          "output_type": "stream",
          "name": "stdout",
          "text": [
            "0.5028684735298157\n"
          ]
        },
        {
          "output_type": "display_data",
          "data": {
            "image/png": "[encoded data removed]",
            "text/plain": [
              "<Figure size 432x288 with 1 Axes>"
            ]
          },
          "metadata": {
            "needs_background": "light"
          }
        }
      ]
    },
    {
      "cell_type": "code",
      "source": [
        "# Should we use more epochs ? Yes\n",
        "# Learning loop\n",
        "batch_size = 100\n",
        "num_epochs = 1500\n",
        "\n",
        "losses = []\n",
        "for epoch in range(num_epochs):\n",
        "    for beg_i in range(0, x_data.size(0), batch_size):\n",
        "        x_batch = x_data[ beg_i:beg_i + batch_size, :]\n",
        "        y_batch = y_data[ beg_i:beg_i + batch_size]\n",
        "        # reset gradients to zero:\n",
        "        optimizer.zero_grad()\n",
        "        # forward:\n",
        "        outputs = model(x_batch)\n",
        "        loss = criterion(outputs, y_batch)\n",
        "        # backpropagation\n",
        "        loss.backward()\n",
        "        optimizer.step()\n",
        "        losses.append(loss.data.item())\n",
        "\n",
        "plt.plot(losses, label=\"loss\")\n",
        "plt.legend()\n",
        "print(losses[-1])"
      ],
      "metadata": {
        "colab": {
          "base_uri": "https://localhost:8080/",
          "height": 282
        },
        "id": "t-WmdsYdAz_M",
        "outputId": "b676942b-1c62-4460-f68a-f8e98d992c6d"
      },
      "execution_count": 23,
      "outputs": [
        {
          "output_type": "stream",
          "name": "stdout",
          "text": [
            "0.3037456274032593\n"
          ]
        },
        {
          "output_type": "display_data",
          "data": {
            "image/png": "[encoded data removed]",
            "text/plain": [
              "<Figure size 432x288 with 1 Axes>"
            ]
          },
          "metadata": {
            "needs_background": "light"
          }
        }
      ]
    },
    {
      "cell_type": "markdown",
      "metadata": {
        "id": "zXXjUda2uOVD"
      },
      "source": [
        "If we run more epochs, how evolves the cost ? Do the confusion matrix enhances ?\n",
        "R: The cost decrease. Yes the confusion matrix enhances"
      ]
    },
    {
      "cell_type": "code",
      "execution_count": 24,
      "metadata": {
        "id": "8ZNuKmbyuOVD",
        "colab": {
          "base_uri": "https://localhost:8080/"
        },
        "outputId": "f4927d92-9e95-4d14-c2ce-2770444449c2"
      },
      "outputs": [
        {
          "output_type": "stream",
          "name": "stdout",
          "text": [
            "[[45.  5.]\n",
            " [ 8. 42.]]\n"
          ]
        }
      ],
      "source": [
        "# Computes network outputs and convert them back to a NumPy array\n",
        "y_pred = model(x_data).detach().numpy()\n",
        "\n",
        "CM_1 = confusion_matrix(y, y_pred)\n",
        "print(CM_1)"
      ]
    },
    {
      "cell_type": "markdown",
      "metadata": {
        "id": "JZl9m_MFuOVD"
      },
      "source": [
        "## A fully connected neural network\n",
        "\n",
        "Our second model is a neural network with three hidden layers, and ReLu activation functions.\n",
        "\n",
        "The number of neurons per layer is:\n",
        "\n",
        "`2 -> N1 -> N2 -> NbClass`\n",
        "\n",
        "You can change `N1`, `N2` below.\n",
        "\n",
        "\n",
        "The `__init__` constructor creates 3 fully connected linear layers (fc1, fc2, ..., \"fc\" meaning \"fully connected\", used by the `forward` method. "
      ]
    },
    {
      "cell_type": "code",
      "execution_count": 25,
      "metadata": {
        "ExecuteTime": {
          "end_time": "2021-01-03T16:48:11.408402Z",
          "start_time": "2021-01-03T16:48:11.404642Z"
        },
        "id": "AOHzXenQuOVE"
      },
      "outputs": [],
      "source": [
        "# The Neural Network model:\n",
        "class Net2(nn.Module):\n",
        "    def __init__(self, N1=5, N2=5):\n",
        "        \"Build fully connected NN with 2 hidden layers\"\"\"\n",
        "        super(Net2, self).__init__()\n",
        "        self.N1, self.N2 = N1, N2\n",
        "        self.fc1 = nn.Linear(2, N1)\n",
        "        self.fc2 = nn.Linear(N1, N2)\n",
        "        self.fc3 = nn.Linear(N2, NbClass)\n",
        "\n",
        "    def forward(self, x):\n",
        "        x = F.relu(self.fc1(x))                 # max (x,0); activation function\n",
        "        x = F.relu(self.fc2(x))\n",
        "        x = self.fc3(x)\n",
        "        return x\n"
      ]
    },
    {
      "cell_type": "code",
      "execution_count": 26,
      "metadata": {
        "ExecuteTime": {
          "end_time": "2021-01-03T16:48:11.418060Z",
          "start_time": "2021-01-03T16:48:11.410763Z"
        },
        "id": "noasIVEluOVE"
      },
      "outputs": [],
      "source": [
        "# Create network and optimizer:\n",
        "\n",
        "torch.manual_seed(12345678) # for reproducibility\n",
        "net = Net2(N1=5, N2=5)\n",
        "# The criteria to optimize (cost function)\n",
        "criterion = nn.CrossEntropyLoss()\n",
        "#optimizer = torch.optim.Adam(net.parameters(), 0.008)\n",
        "\n",
        "# Etonnants sauts !\n",
        "# optimizer = torch.optim.SGD(net.parameters(), lr=0.05, momentum=0.3)\n",
        "\n",
        "# Le meilleur trouvé:\n",
        "optimizer = torch.optim.SGD(net.parameters(), lr=0.05, momentum=0.1)\n",
        "\n"
      ]
    },
    {
      "cell_type": "markdown",
      "metadata": {
        "id": "Y2T5E_rsuOVE"
      },
      "source": [
        "#### Learning the Neural Network\n"
      ]
    },
    {
      "cell_type": "code",
      "execution_count": 27,
      "metadata": {
        "ExecuteTime": {
          "end_time": "2021-01-03T16:50:40.997961Z",
          "start_time": "2021-01-03T16:48:11.419780Z"
        },
        "id": "ecqqvjBBuOVE",
        "colab": {
          "base_uri": "https://localhost:8080/",
          "height": 490
        },
        "outputId": "35b0d5a7-b1f1-4d07-f1fa-d9540d52892a"
      },
      "outputs": [
        {
          "output_type": "stream",
          "name": "stdout",
          "text": [
            "0001\t0.691026\n",
            "0011\t0.303859\n",
            "0021\t0.294253\n",
            "0031\t0.288343\n",
            "0041\t0.28486\n",
            "0051\t0.281245\n",
            "0061\t0.280003\n",
            "0071\t0.279463\n",
            "0081\t0.278268\n",
            "0091\t0.278864\n",
            "0101\t0.278051\n",
            "no more changes: stopping !\n",
            "0.2781454920768738\n"
          ]
        },
        {
          "output_type": "display_data",
          "data": {
            "image/png": "[encoded data removed]",
            "text/plain": [
              "<Figure size 432x288 with 1 Axes>"
            ]
          },
          "metadata": {
            "needs_background": "light"
          }
        }
      ],
      "source": [
        "# Learning (without mini-batch)\n",
        "\n",
        "min_nb_epochs = 100\n",
        "max_nb_epochs = 3000\n",
        "\n",
        "# Stop criteria: no average on window did not change more than min_change\n",
        "window_size=10\n",
        "min_change=1e-4\n",
        "\n",
        "losses = []\n",
        "models_states = OrderedDict()\n",
        "for epoch in range(max_nb_epochs):\n",
        "    for i in range(x_data.size(0)):\n",
        "        x_i = x_data[ i:i + 1, :]\n",
        "        y_i = y_data[ i:i + 1]\n",
        "        # reset gradients to zero\n",
        "        optimizer.zero_grad()\n",
        "        # forward:\n",
        "        outputs = net(x_i)\n",
        "        loss = criterion(outputs, y_i)\n",
        "        # backpropagation:\n",
        "        loss.backward()\n",
        "        optimizer.step()\n",
        "    # After epoch, computes average loss on training set\n",
        "    train_outputs = net(x_data)\n",
        "    train_loss = criterion(train_outputs, y_data)\n",
        "    losses.append(train_loss.data.item()) # record cost (loss) after each epoch\n",
        "    models_states[len(losses)] = copy.deepcopy(net.state_dict())\n",
        "    if len(losses) % window_size == 1:\n",
        "        print(\"%04d\\t%g\" %(len(losses), losses[-1]) )\n",
        "        \n",
        "    # Should we stop ?\n",
        "    if len(losses) > min_nb_epochs:\n",
        "        last_avg_loss = np.mean(losses[-window_size:])\n",
        "        before_avg_loss = np.mean(losses[-2*window_size:-window_size])\n",
        "        if abs(last_avg_loss-before_avg_loss) < min_change:\n",
        "            print(\"no more changes: stopping !\")\n",
        "            break\n",
        "\n",
        "plt.plot(losses, label=\"loss\")\n",
        "plt.legend()\n",
        "print(losses[-1])\n",
        "\n",
        "\n"
      ]
    },
    {
      "cell_type": "code",
      "execution_count": 28,
      "metadata": {
        "ExecuteTime": {
          "end_time": "2021-01-03T16:50:41.978314Z",
          "start_time": "2021-01-03T16:50:40.999271Z"
        },
        "id": "UEngDi2auOVF",
        "colab": {
          "base_uri": "https://localhost:8080/",
          "height": 900
        },
        "outputId": "52b1a824-dbe1-4cf4-94f8-4a2ecd86d1b6"
      },
      "outputs": [
        {
          "output_type": "display_data",
          "data": {
            "image/png": "[encoded data removed]",
            "text/plain": [
              "<Figure size 1296x1152 with 1 Axes>"
            ]
          },
          "metadata": {
            "needs_background": "light"
          }
        }
      ],
      "source": [
        "jnk=plot_2d_model(X, y, net, \"2-{}-{}-2 Neural Network\".format(net.N1,net.N2))"
      ]
    },
    {
      "cell_type": "code",
      "source": [
        "# Learning (without mini-batch)\n",
        "\n",
        "min_nb_epochs = 100\n",
        "max_nb_epochs = 3000\n",
        "\n",
        "# Stop criteria: no average on window did not change more than min_change\n",
        "window_size=10\n",
        "min_change=1e-4\n",
        "\n",
        "losses = []\n",
        "models_states = OrderedDict()\n",
        "for epoch in range(max_nb_epochs):\n",
        "    for i in range(x_data.size(0)):\n",
        "        x_i = x_data[ i:i + 1, :]\n",
        "        y_i = y_data[ i:i + 1]\n",
        "        # reset gradients to zero\n",
        "        optimizer.zero_grad()\n",
        "        # forward:\n",
        "        outputs = net(x_i)\n",
        "        loss = criterion(outputs, y_i)\n",
        "        # backpropagation:\n",
        "        loss.backward()\n",
        "        optimizer.step()\n",
        "    # After epoch, computes average loss on training set\n",
        "    train_outputs = net(x_data)\n",
        "    train_loss = criterion(train_outputs, y_data)\n",
        "    losses.append(train_loss.data.item()) # record cost (loss) after each epoch\n",
        "    models_states[len(losses)] = copy.deepcopy(net.state_dict())\n",
        "    if len(losses) % window_size == 1:\n",
        "        print(\"%04d\\t%g\" %(len(losses), losses[-1]) )\n",
        "        \n",
        "    # # Should we stop ?\n",
        "    # if len(losses) > min_nb_epochs:\n",
        "    #     last_avg_loss = np.mean(losses[-window_size:])\n",
        "    #     before_avg_loss = np.mean(losses[-2*window_size:-window_size])\n",
        "    #     if abs(last_avg_loss-before_avg_loss) < min_change:\n",
        "    #         print(\"no more changes: stopping !\")\n",
        "    #         break\n",
        "\n",
        "plt.plot(losses, label=\"loss\")\n",
        "plt.legend()\n",
        "print(losses[-1])"
      ],
      "metadata": {
        "colab": {
          "base_uri": "https://localhost:8080/",
          "height": 1000
        },
        "id": "1S-DC_q7FP4l",
        "outputId": "3e005773-2824-4e95-d2f9-03451f946b27"
      },
      "execution_count": 29,
      "outputs": [
        {
          "output_type": "stream",
          "name": "stdout",
          "text": [
            "0001\t0.27802\n",
            "0011\t0.277846\n",
            "0021\t0.277531\n",
            "0031\t0.277309\n",
            "0041\t0.276799\n",
            "0051\t0.276129\n",
            "0061\t0.276026\n",
            "0071\t0.275325\n",
            "0081\t0.276341\n",
            "0091\t0.27558\n",
            "0101\t0.274658\n",
            "0111\t0.274288\n",
            "0121\t0.275182\n",
            "0131\t0.271723\n",
            "0141\t0.271022\n",
            "0151\t0.274536\n",
            "0161\t0.273303\n",
            "0171\t0.274247\n",
            "0181\t0.273787\n",
            "0191\t0.27455\n",
            "0201\t0.274554\n",
            "0211\t0.271485\n",
            "0221\t0.275513\n",
            "0231\t0.270799\n",
            "0241\t0.273268\n",
            "0251\t0.273829\n",
            "0261\t0.265946\n",
            "0271\t0.272026\n",
            "0281\t0.273453\n",
            "0291\t0.270503\n",
            "0301\t0.270471\n",
            "0311\t0.272403\n",
            "0321\t0.270543\n",
            "0331\t0.269407\n",
            "0341\t0.269058\n",
            "0351\t0.269823\n",
            "0361\t0.262891\n",
            "0371\t0.262363\n",
            "0381\t0.262004\n",
            "0391\t0.266591\n",
            "0401\t0.263806\n",
            "0411\t0.258509\n",
            "0421\t0.271397\n",
            "0431\t0.271118\n",
            "0441\t0.270859\n",
            "0451\t0.272463\n",
            "0461\t0.260758\n",
            "0471\t0.263187\n",
            "0481\t0.268043\n",
            "0491\t0.270817\n",
            "0501\t0.264625\n",
            "0511\t0.26232\n",
            "0521\t0.266415\n",
            "0531\t0.265367\n",
            "0541\t0.259547\n",
            "0551\t0.258123\n",
            "0561\t0.262213\n",
            "0571\t0.264321\n",
            "0581\t0.263892\n",
            "0591\t0.260068\n",
            "0601\t0.25603\n",
            "0611\t0.263791\n",
            "0621\t0.262274\n",
            "0631\t0.262543\n",
            "0641\t0.262412\n",
            "0651\t0.262022\n",
            "0661\t0.259099\n",
            "0671\t0.247096\n",
            "0681\t0.215919\n",
            "0691\t0.148487\n",
            "0701\t0.115579\n",
            "0711\t0.0741031\n",
            "0721\t0.058585\n",
            "0731\t0.0849444\n",
            "0741\t0.137421\n",
            "0751\t0.070558\n",
            "0761\t0.100486\n",
            "0771\t0.0495555\n",
            "0781\t0.156906\n",
            "0791\t0.0618108\n",
            "0801\t0.0439724\n",
            "0811\t0.0426452\n",
            "0821\t0.120554\n",
            "0831\t0.0402039\n",
            "0841\t0.124664\n",
            "0851\t0.0978311\n",
            "0861\t0.0357771\n",
            "0871\t0.0271858\n",
            "0881\t0.0223671\n",
            "0891\t0.0253335\n",
            "0901\t0.0733942\n",
            "0911\t0.0279767\n",
            "0921\t0.0163394\n",
            "0931\t0.017888\n",
            "0941\t0.0247978\n",
            "0951\t0.0261705\n",
            "0961\t0.0179274\n",
            "0971\t0.0300757\n",
            "0981\t0.0159577\n",
            "0991\t0.0103952\n",
            "1001\t0.0282187\n",
            "1011\t0.0221929\n",
            "1021\t0.0203033\n",
            "1031\t0.0209496\n",
            "1041\t0.0189309\n",
            "1051\t0.0182798\n",
            "1061\t0.0180224\n",
            "1071\t0.0231793\n",
            "1081\t0.0140724\n",
            "1091\t0.0106137\n",
            "1101\t0.0129029\n",
            "1111\t0.0117646\n",
            "1121\t0.0116902\n",
            "1131\t0.011127\n",
            "1141\t0.010932\n",
            "1151\t0.0108936\n",
            "1161\t0.0109551\n",
            "1171\t0.0115987\n",
            "1181\t0.0116816\n",
            "1191\t0.0116249\n",
            "1201\t0.0114496\n",
            "1211\t0.011045\n",
            "1221\t0.0108964\n",
            "1231\t0.633522\n",
            "1241\t0.148188\n",
            "1251\t0.0257887\n",
            "1261\t0.0317021\n",
            "1271\t0.00964514\n",
            "1281\t0.00773379\n",
            "1291\t0.0126168\n",
            "1301\t0.00655986\n",
            "1311\t0.00641763\n",
            "1321\t0.00573523\n",
            "1331\t0.0355769\n",
            "1341\t0.0257626\n",
            "1351\t0.0129147\n",
            "1361\t0.012214\n",
            "1371\t0.0117996\n",
            "1381\t0.0114601\n",
            "1391\t0.0112546\n",
            "1401\t0.0111948\n",
            "1411\t0.0111386\n",
            "1421\t0.0110657\n",
            "1431\t0.0109772\n",
            "1441\t0.0108914\n",
            "1451\t0.0107413\n",
            "1461\t0.0107326\n",
            "1471\t0.0106157\n",
            "1481\t0.0105646\n",
            "1491\t0.0105081\n",
            "1501\t0.0104341\n",
            "1511\t0.0103617\n",
            "1521\t0.0102643\n",
            "1531\t0.0101568\n",
            "1541\t0.0100441\n",
            "1551\t0.00992976\n",
            "1561\t0.00656503\n",
            "1571\t0.0789652\n",
            "1581\t0.0701185\n",
            "1591\t0.0709573\n",
            "1601\t0.0667523\n",
            "1611\t0.0667981\n",
            "1621\t0.0624089\n",
            "1631\t0.0591853\n",
            "1641\t0.0231759\n",
            "1651\t0.0158954\n",
            "1661\t0.0147866\n",
            "1671\t0.0146559\n",
            "1681\t0.0144353\n",
            "1691\t0.0137126\n",
            "1701\t0.0132111\n",
            "1711\t0.0135469\n",
            "1721\t0.0127121\n",
            "1731\t0.0130116\n",
            "1741\t0.0128395\n",
            "1751\t0.0126911\n",
            "1761\t0.0125757\n",
            "1771\t0.0126004\n",
            "1781\t0.0116535\n",
            "1791\t0.0158961\n",
            "1801\t0.0120699\n",
            "1811\t0.0120075\n",
            "1821\t0.0121507\n",
            "1831\t0.0123807\n",
            "1841\t0.0112472\n",
            "1851\t0.012202\n",
            "1861\t0.0116235\n",
            "1871\t0.0118493\n",
            "1881\t0.0114176\n",
            "1891\t0.0116503\n",
            "1901\t0.011084\n",
            "1911\t0.0123772\n",
            "1921\t0.0111139\n",
            "1931\t0.0158149\n",
            "1941\t0.0110255\n",
            "1951\t0.0106443\n",
            "1961\t0.0878518\n",
            "1971\t0.0385373\n",
            "1981\t0.0364979\n",
            "1991\t0.0340229\n",
            "2001\t0.0312069\n",
            "2011\t0.0261388\n",
            "2021\t0.0145178\n",
            "2031\t0.00834764\n",
            "2041\t0.00828116\n",
            "2051\t0.00806208\n",
            "2061\t0.00819405\n",
            "2071\t0.00777027\n",
            "2081\t0.00686371\n",
            "2091\t0.00783727\n",
            "2101\t0.00792712\n",
            "2111\t0.00805847\n",
            "2121\t0.0338011\n",
            "2131\t0.0335736\n",
            "2141\t0.0295955\n",
            "2151\t0.0196088\n",
            "2161\t0.032847\n",
            "2171\t0.0739873\n",
            "2181\t0.12827\n",
            "2191\t0.0166443\n",
            "2201\t0.00873985\n",
            "2211\t0.0184065\n",
            "2221\t0.0168268\n",
            "2231\t0.00814343\n",
            "2241\t0.00773668\n",
            "2251\t0.00766942\n",
            "2261\t0.00747179\n",
            "2271\t0.00738833\n",
            "2281\t0.00728555\n",
            "2291\t0.0187188\n",
            "2301\t0.00727437\n",
            "2311\t0.00706635\n",
            "2321\t0.0171707\n",
            "2331\t0.00700551\n",
            "2341\t0.0165444\n",
            "2351\t0.00688488\n",
            "2361\t0.00725484\n",
            "2371\t0.00668651\n",
            "2381\t0.00688942\n",
            "2391\t0.0164714\n",
            "2401\t0.00655859\n",
            "2411\t0.00674014\n",
            "2421\t0.00711336\n",
            "2431\t0.00638029\n",
            "2441\t0.00648664\n",
            "2451\t0.006611\n",
            "2461\t0.0168873\n",
            "2471\t0.00713001\n",
            "2481\t0.00629454\n",
            "2491\t0.00679774\n",
            "2501\t0.0149056\n",
            "2511\t0.00806874\n",
            "2521\t0.00647049\n",
            "2531\t0.00810985\n",
            "2541\t0.00628931\n",
            "2551\t0.00766253\n",
            "2561\t0.075028\n",
            "2571\t0.0491629\n",
            "2581\t0.035274\n",
            "2591\t0.0401596\n",
            "2601\t0.0305044\n",
            "2611\t0.0352166\n",
            "2621\t0.0446753\n",
            "2631\t0.0304173\n",
            "2641\t0.0236281\n",
            "2651\t0.0173043\n",
            "2661\t0.0138846\n",
            "2671\t0.0243231\n",
            "2681\t0.0190043\n",
            "2691\t0.0177967\n",
            "2701\t0.0161158\n",
            "2711\t0.0287463\n",
            "2721\t0.026754\n",
            "2731\t0.020125\n",
            "2741\t0.0278249\n",
            "2751\t0.0144192\n",
            "2761\t0.0181129\n",
            "2771\t0.0166164\n",
            "2781\t0.0161549\n",
            "2791\t0.0158699\n",
            "2801\t0.0154586\n",
            "2811\t0.0152526\n",
            "2821\t0.0146294\n",
            "2831\t0.0139491\n",
            "2841\t0.0131329\n",
            "2851\t0.0125559\n",
            "2861\t0.012707\n",
            "2871\t0.0120753\n",
            "2881\t0.0119082\n",
            "2891\t0.0107915\n",
            "2901\t0.0104984\n",
            "2911\t0.0103967\n",
            "2921\t0.0105408\n",
            "2931\t0.0100174\n",
            "2941\t0.00998765\n",
            "2951\t0.00992662\n",
            "2961\t0.00991085\n",
            "2971\t0.0101708\n",
            "2981\t0.0101552\n",
            "2991\t0.010108\n",
            "0.009896147064864635\n"
          ]
        },
        {
          "output_type": "display_data",
          "data": {
            "image/png": "[encoded data removed]",
            "text/plain": [
              "<Figure size 432x288 with 1 Axes>"
            ]
          },
          "metadata": {
            "needs_background": "light"
          }
        }
      ]
    },
    {
      "cell_type": "code",
      "execution_count": 30,
      "metadata": {
        "ExecuteTime": {
          "end_time": "2021-01-03T16:50:48.025504Z",
          "start_time": "2021-01-03T16:50:41.980063Z"
        },
        "id": "4gXRGzKMuOVF",
        "colab": {
          "base_uri": "https://localhost:8080/",
          "height": 1000
        },
        "outputId": "6f04756f-cc03-4c27-8907-6a69c463e584"
      },
      "outputs": [
        {
          "output_type": "display_data",
          "data": {
            "image/png": "[encoded data removed]",
            "text/plain": [
              "<Figure size 1296x2304 with 8 Axes>"
            ]
          },
          "metadata": {
            "needs_background": "light"
          }
        }
      ],
      "source": [
        "# Pick *best* model\n",
        "best_epoch = np.argmin(losses)\n",
        "\n",
        "ages = [ 1, 500, 741, 771, 1000, 1490, 1700, best_epoch]\n",
        "\n",
        "fig = plt.figure(figsize=(18, 32))\n",
        "spec = gridspec.GridSpec(ncols=2, nrows=4, width_ratios=[1,1], height_ratios=[2,2,2,2])\n",
        "\n",
        "for i, age in enumerate(ages):\n",
        "    age_state = models_states[age]\n",
        "    net.load_state_dict(age_state)\n",
        "    tit = \"Epoch {}, loss={:g} 2-{}-{}-2 Neural Network\".format(age, losses[age], net.N1,net.N2)\n",
        "    ax = fig.add_subplot( spec[i] )\n",
        "    subplot_2d_model(ax, X, y, net, subtitle=tit)\n",
        "    "
      ]
    },
    {
      "cell_type": "code",
      "execution_count": 31,
      "metadata": {
        "ExecuteTime": {
          "end_time": "2021-01-03T16:50:48.030857Z",
          "start_time": "2021-01-03T16:50:48.026895Z"
        },
        "id": "IBbLthvyuOVF",
        "colab": {
          "base_uri": "https://localhost:8080/"
        },
        "outputId": "34bb0295-9e89-4f09-dfaf-2e2c7912fa2a"
      },
      "outputs": [
        {
          "output_type": "execute_result",
          "data": {
            "text/plain": [
              "tensor([[-0.2053,  3.2194,  0.1688,  0.2224, -0.0795],\n",
              "        [ 0.7892,  0.4254, -2.7844, -0.1656,  0.0336],\n",
              "        [-0.3311,  2.5279, -7.2222,  0.1785,  0.1106],\n",
              "        [ 6.8117,  1.7718, -0.5366,  0.1923,  0.3582],\n",
              "        [-5.8255, -4.2769,  2.2688, -0.3966,  0.3961]])"
            ]
          },
          "metadata": {},
          "execution_count": 31
        }
      ],
      "source": [
        "# Les poids\n",
        "#net = Net(N1=5, N2=5, N3=5)\n",
        "net.fc2.weight.data\n"
      ]
    },
    {
      "cell_type": "code",
      "execution_count": 32,
      "metadata": {
        "ExecuteTime": {
          "end_time": "2021-01-03T16:50:48.036121Z",
          "start_time": "2021-01-03T16:50:48.032186Z"
        },
        "id": "iHAuP8-LuOVG",
        "colab": {
          "base_uri": "https://localhost:8080/"
        },
        "outputId": "e49194ef-e49d-45dd-ce85-ff1145b16e40"
      },
      "outputs": [
        {
          "output_type": "execute_result",
          "data": {
            "text/plain": [
              "tensor([ -2.1741, -22.3708], grad_fn=<AddBackward0>)"
            ]
          },
          "metadata": {},
          "execution_count": 32
        }
      ],
      "source": [
        "# This is the output of the network at x=(0,0)\n",
        "net(torch.tensor( (0,0), dtype=torch.float32 ))"
      ]
    },
    {
      "cell_type": "code",
      "execution_count": 33,
      "metadata": {
        "ExecuteTime": {
          "end_time": "2021-01-03T16:50:48.041166Z",
          "start_time": "2021-01-03T16:50:48.037251Z"
        },
        "id": "Y0ON0B6QuOVG",
        "colab": {
          "base_uri": "https://localhost:8080/"
        },
        "outputId": "0d4424af-f4a6-43e9-dbbf-17c753606081"
      },
      "outputs": [
        {
          "output_type": "stream",
          "name": "stdout",
          "text": [
            "[[50.  0.]\n",
            " [ 0. 50.]]\n"
          ]
        }
      ],
      "source": [
        "# Confusion matrix\n",
        "# note that we need to convert the tensor back to a standard array:\n",
        "y_pred = net(x_data).detach().numpy()\n",
        "\n",
        "CM = confusion_matrix(y, y_pred)\n",
        "print(CM)"
      ]
    },
    {
      "cell_type": "markdown",
      "metadata": {
        "id": "WbVGdrwUuOVG"
      },
      "source": [
        "# Questions\n",
        "Answer writing code and explanations.\n",
        "\n",
        "- How many examples are missclassified ? R: 0\n",
        "- What is the error rate in percent ? R: 0\n",
        "\n",
        "- Try different learning rates and observe the convergence: is it sensitive to the rate value ? R: Yes it is sensitive. While the learning rate is higher, the convergence is faster => over-fit. While the learning rate is lower, the convergence is slower. "
      ]
    },
    {
      "cell_type": "code",
      "execution_count": 34,
      "metadata": {
        "id": "BYWrqIKyuOVH",
        "colab": {
          "base_uri": "https://localhost:8080/"
        },
        "outputId": "fd1aa476-547c-4a99-8d9b-110b93b2bc30"
      },
      "outputs": [
        {
          "output_type": "stream",
          "name": "stdout",
          "text": [
            "19\n"
          ]
        },
        {
          "output_type": "execute_result",
          "data": {
            "text/plain": [
              "0.19"
            ]
          },
          "metadata": {},
          "execution_count": 34
        }
      ],
      "source": [
        "print(len(np.where(y_pred_class!=y)[0]))\n",
        "error_rate = (len(np.where(y_pred_class!=y)[0]))/(len(y))\n",
        "error_rate"
      ]
    },
    {
      "cell_type": "code",
      "source": [
        "optimizer = torch.optim.SGD(net.parameters(), lr=0.05, momentum=0.1)\n",
        "# Learning (without mini-batch)\n",
        "\n",
        "min_nb_epochs = 100\n",
        "max_nb_epochs = 3000\n",
        "\n",
        "# Stop criteria: no average on window did not change more than min_change\n",
        "window_size=10\n",
        "min_change=1e-4\n",
        "\n",
        "losses = []\n",
        "models_states = OrderedDict()\n",
        "for epoch in range(max_nb_epochs):\n",
        "    for i in range(x_data.size(0)):\n",
        "        x_i = x_data[ i:i + 1, :]\n",
        "        y_i = y_data[ i:i + 1]\n",
        "        # reset gradients to zero\n",
        "        optimizer.zero_grad()\n",
        "        # forward:\n",
        "        outputs = net(x_i)\n",
        "        loss = criterion(outputs, y_i)\n",
        "        # backpropagation:\n",
        "        loss.backward()\n",
        "        optimizer.step()\n",
        "    # After epoch, computes average loss on training set\n",
        "    train_outputs = net(x_data)\n",
        "    train_loss = criterion(train_outputs, y_data)\n",
        "    losses.append(train_loss.data.item()) # record cost (loss) after each epoch\n",
        "    models_states[len(losses)] = copy.deepcopy(net.state_dict())\n",
        "    if len(losses) % window_size == 1:\n",
        "        print(\"%04d\\t%g\" %(len(losses), losses[-1]) )\n",
        "        \n",
        "    # # Should we stop ?\n",
        "    # if len(losses) > min_nb_epochs:\n",
        "    #     last_avg_loss = np.mean(losses[-window_size:])\n",
        "    #     before_avg_loss = np.mean(losses[-2*window_size:-window_size])\n",
        "    #     if abs(last_avg_loss-before_avg_loss) < min_change:\n",
        "    #         print(\"no more changes: stopping !\")\n",
        "    #         break\n",
        "\n",
        "plt.plot(losses, label=\"loss\")\n",
        "plt.legend()\n",
        "print(losses[-1])"
      ],
      "metadata": {
        "colab": {
          "base_uri": "https://localhost:8080/",
          "height": 1000
        },
        "id": "O249sdCJIHbO",
        "outputId": "3723b5e7-56ea-4095-a070-16615d7d4aa5"
      },
      "execution_count": 35,
      "outputs": [
        {
          "output_type": "stream",
          "name": "stdout",
          "text": [
            "0001\t0.00556596\n",
            "0011\t0.00777226\n",
            "0021\t0.0778306\n",
            "0031\t0.275284\n",
            "0041\t0.0354635\n",
            "0051\t0.035471\n",
            "0061\t0.0303103\n",
            "0071\t0.0353007\n",
            "0081\t0.0354845\n",
            "0091\t0.0280147\n",
            "0101\t0.0734742\n",
            "0111\t0.06492\n",
            "0121\t0.0615805\n",
            "0131\t0.123065\n",
            "0141\t0.0638423\n",
            "0151\t0.0314419\n",
            "0161\t0.0296331\n",
            "0171\t0.0437955\n",
            "0181\t0.0249821\n",
            "0191\t0.0199302\n",
            "0201\t0.0165978\n",
            "0211\t0.0231641\n",
            "0221\t0.016335\n",
            "0231\t0.0147719\n",
            "0241\t0.0828739\n",
            "0251\t0.0341542\n",
            "0261\t0.0211135\n",
            "0271\t0.0224357\n",
            "0281\t0.0177251\n",
            "0291\t0.0147081\n",
            "0301\t0.012443\n",
            "0311\t0.0148179\n",
            "0321\t0.0161217\n",
            "0331\t0.0974438\n",
            "0341\t0.00983463\n",
            "0351\t0.00836381\n",
            "0361\t0.00794664\n",
            "0371\t0.00784808\n",
            "0381\t0.00769139\n",
            "0391\t0.00791448\n",
            "0401\t0.0081972\n",
            "0411\t0.00776268\n",
            "0421\t0.00803931\n",
            "0431\t0.0124037\n",
            "0441\t0.00812546\n",
            "0451\t0.00794677\n",
            "0461\t0.00819851\n",
            "0471\t0.00859559\n",
            "0481\t0.00893882\n",
            "0491\t0.00827872\n",
            "0501\t0.00820901\n",
            "0511\t0.114711\n",
            "0521\t0.0795904\n",
            "0531\t0.0431451\n",
            "0541\t0.0426323\n",
            "0551\t0.0371623\n",
            "0561\t0.0313906\n",
            "0571\t0.0219517\n",
            "0581\t0.0161216\n",
            "0591\t0.0152746\n",
            "0601\t0.015206\n",
            "0611\t0.0146597\n",
            "0621\t0.0144716\n",
            "0631\t0.0145309\n",
            "0641\t0.0196349\n",
            "0651\t0.00631306\n",
            "0661\t0.00682882\n",
            "0671\t0.00841057\n",
            "0681\t0.00618297\n",
            "0691\t0.00570705\n",
            "0701\t0.00818631\n",
            "0711\t0.00734536\n",
            "0721\t0.00699499\n",
            "0731\t0.00616409\n",
            "0741\t0.00491904\n",
            "0751\t0.0310651\n",
            "0761\t0.00597451\n",
            "0771\t0.00505231\n",
            "0781\t0.0214777\n",
            "0791\t0.0222763\n",
            "0801\t0.0284028\n",
            "0811\t0.0189555\n",
            "0821\t0.0159061\n",
            "0831\t0.0144528\n",
            "0841\t0.0724281\n",
            "0851\t0.0649001\n",
            "0861\t0.0645468\n",
            "0871\t0.0578463\n",
            "0881\t0.0588766\n",
            "0891\t0.0592157\n",
            "0901\t0.0337897\n",
            "0911\t0.0309016\n",
            "0921\t0.0286102\n",
            "0931\t0.0312548\n",
            "0941\t0.0253818\n",
            "0951\t0.0181269\n",
            "0961\t0.0149249\n",
            "0971\t0.0146032\n",
            "0981\t0.0167988\n",
            "0991\t0.0150033\n",
            "1001\t0.0148607\n",
            "1011\t0.0135312\n",
            "1021\t0.0144953\n",
            "1031\t0.0146991\n",
            "1041\t0.0143475\n",
            "1051\t0.0145387\n",
            "1061\t0.014279\n",
            "1071\t0.0144312\n",
            "1081\t0.0142306\n",
            "1091\t0.0267832\n",
            "1101\t0.0155982\n",
            "1111\t0.0125605\n",
            "1121\t0.0125897\n",
            "1131\t0.0136985\n",
            "1141\t0.0140221\n",
            "1151\t0.0116802\n",
            "1161\t0.00796529\n",
            "1171\t0.0186786\n",
            "1181\t0.0064754\n",
            "1191\t0.00306185\n",
            "1201\t0.00248829\n",
            "1211\t0.00198477\n",
            "1221\t0.00184947\n",
            "1231\t0.0025313\n",
            "1241\t0.00313246\n",
            "1251\t0.00252743\n",
            "1261\t0.0120154\n",
            "1271\t0.00465276\n",
            "1281\t0.00445586\n",
            "1291\t0.0313922\n",
            "1301\t0.00678051\n",
            "1311\t0.00261223\n",
            "1321\t0.0032675\n",
            "1331\t0.00329008\n",
            "1341\t0.0186871\n",
            "1351\t0.0124856\n",
            "1361\t0.0128527\n",
            "1371\t0.0155759\n",
            "1381\t0.0147639\n",
            "1391\t0.0137001\n",
            "1401\t0.0109968\n",
            "1411\t0.0120344\n",
            "1421\t0.0118397\n",
            "1431\t0.0112679\n",
            "1441\t0.00943727\n",
            "1451\t0.00884342\n",
            "1461\t0.00838927\n",
            "1471\t0.0068992\n",
            "1481\t0.00516761\n",
            "1491\t0.00202245\n",
            "1501\t0.000714288\n",
            "1511\t0.000459016\n",
            "1521\t0.000390449\n",
            "1531\t0.000347467\n",
            "1541\t0.000305629\n",
            "1551\t0.000275476\n",
            "1561\t0.000250742\n",
            "1571\t0.000231827\n",
            "1581\t0.000216056\n",
            "1591\t0.000202373\n",
            "1601\t0.000190359\n",
            "1611\t0.00017974\n",
            "1621\t0.000170267\n",
            "1631\t0.000161768\n",
            "1641\t0.000154094\n",
            "1651\t0.000147124\n",
            "1661\t0.00014077\n",
            "1671\t0.00013495\n",
            "1681\t0.000129602\n",
            "1691\t0.000124668\n",
            "1701\t0.000120092\n",
            "1711\t0.000115847\n",
            "1721\t0.000111893\n",
            "1731\t0.000108205\n",
            "1741\t0.000104749\n",
            "1751\t0.00010151\n",
            "1761\t9.8465e-05\n",
            "1771\t9.5599e-05\n",
            "1781\t9.28977e-05\n",
            "1791\t9.03422e-05\n",
            "1801\t8.79254e-05\n",
            "1811\t8.56306e-05\n",
            "1821\t8.34557e-05\n",
            "1831\t8.13874e-05\n",
            "1841\t7.94188e-05\n",
            "1851\t7.75415e-05\n",
            "1861\t7.57531e-05\n",
            "1871\t7.40455e-05\n",
            "1881\t7.24161e-05\n",
            "1891\t7.08521e-05\n",
            "1901\t6.93521e-05\n",
            "1911\t6.79174e-05\n",
            "1921\t6.65384e-05\n",
            "1931\t6.51832e-05\n",
            "1941\t6.38956e-05\n",
            "1951\t6.26591e-05\n",
            "1961\t6.14665e-05\n",
            "1971\t6.03203e-05\n",
            "1981\t5.92167e-05\n",
            "1991\t5.81489e-05\n",
            "2001\t5.71166e-05\n",
            "2011\t5.61236e-05\n",
            "2021\t5.51566e-05\n",
            "2031\t5.42289e-05\n",
            "2041\t5.33285e-05\n",
            "2051\t5.24566e-05\n",
            "2061\t5.16133e-05\n",
            "2071\t5.07961e-05\n",
            "2081\t5.00074e-05\n",
            "2091\t4.92401e-05\n",
            "2101\t4.84977e-05\n",
            "2111\t4.77768e-05\n",
            "2121\t4.7076e-05\n",
            "2131\t4.63931e-05\n",
            "2141\t4.57292e-05\n",
            "2151\t4.50867e-05\n",
            "2161\t4.4462e-05\n",
            "2171\t4.38551e-05\n",
            "2181\t4.32638e-05\n",
            "2191\t4.26831e-05\n",
            "2201\t4.21238e-05\n",
            "2211\t4.15787e-05\n",
            "2221\t4.10444e-05\n",
            "2231\t4.05244e-05\n",
            "2241\t4.00186e-05\n",
            "2251\t3.95259e-05\n",
            "2261\t3.90403e-05\n",
            "2271\t3.85714e-05\n",
            "2281\t3.81132e-05\n",
            "2291\t3.76644e-05\n",
            "2301\t3.72264e-05\n",
            "2311\t3.67968e-05\n",
            "2321\t3.6379e-05\n",
            "2331\t3.59683e-05\n",
            "2341\t3.55696e-05\n",
            "2351\t3.51768e-05\n",
            "2361\t3.47947e-05\n",
            "2371\t3.44197e-05\n",
            "2381\t3.40507e-05\n",
            "2391\t3.36912e-05\n",
            "2401\t3.334e-05\n",
            "2411\t3.29948e-05\n",
            "2421\t3.26567e-05\n",
            "2431\t3.23281e-05\n",
            "2441\t3.20007e-05\n",
            "2451\t3.16841e-05\n",
            "2461\t3.13721e-05\n",
            "2471\t3.1065e-05\n",
            "2481\t3.07662e-05\n",
            "2491\t3.04709e-05\n",
            "2501\t3.01828e-05\n",
            "2511\t2.98958e-05\n",
            "2521\t2.96196e-05\n",
            "2531\t2.9347e-05\n",
            "2541\t2.90767e-05\n",
            "2551\t2.88136e-05\n",
            "2561\t2.85552e-05\n",
            "2571\t2.83016e-05\n",
            "2581\t2.80527e-05\n",
            "2591\t2.78051e-05\n",
            "2601\t2.75621e-05\n",
            "2611\t2.73288e-05\n",
            "2621\t2.70954e-05\n",
            "2631\t2.68656e-05\n",
            "2641\t2.66405e-05\n",
            "2651\t2.6419e-05\n",
            "2661\t2.61975e-05\n",
            "2671\t2.59856e-05\n",
            "2681\t2.5776e-05\n",
            "2691\t2.55664e-05\n",
            "2701\t2.53616e-05\n",
            "2711\t2.51592e-05\n",
            "2721\t2.49627e-05\n",
            "2731\t2.47662e-05\n",
            "2741\t2.45768e-05\n",
            "2751\t2.43875e-05\n",
            "2761\t2.41993e-05\n",
            "2771\t2.40171e-05\n",
            "2781\t2.38361e-05\n",
            "2791\t2.36551e-05\n",
            "2801\t2.34812e-05\n",
            "2811\t2.33073e-05\n",
            "2821\t2.31394e-05\n",
            "2831\t2.29715e-05\n",
            "2841\t2.28047e-05\n",
            "2851\t2.26392e-05\n",
            "2861\t2.24784e-05\n",
            "2871\t2.23188e-05\n",
            "2881\t2.2164e-05\n",
            "2891\t2.20092e-05\n",
            "2901\t2.18567e-05\n",
            "2911\t2.17067e-05\n",
            "2921\t2.15578e-05\n",
            "2931\t2.14101e-05\n",
            "2941\t2.12672e-05\n",
            "2951\t2.11242e-05\n",
            "2961\t2.09861e-05\n",
            "2971\t2.08443e-05\n",
            "2981\t2.07086e-05\n",
            "2991\t2.0574e-05\n",
            "2.0453671822906472e-05\n"
          ]
        },
        {
          "output_type": "display_data",
          "data": {
            "image/png": "[encoded data removed]",
            "text/plain": [
              "<Figure size 432x288 with 1 Axes>"
            ]
          },
          "metadata": {
            "needs_background": "light"
          }
        }
      ]
    },
    {
      "cell_type": "code",
      "source": [
        "optimizer = torch.optim.SGD(net.parameters(), lr=0.002, momentum=0.1)\n",
        "# Learning (without mini-batch)\n",
        "\n",
        "min_nb_epochs = 100\n",
        "max_nb_epochs = 3000\n",
        "\n",
        "# Stop criteria: no average on window did not change more than min_change\n",
        "window_size=10\n",
        "min_change=1e-4\n",
        "\n",
        "losses = []\n",
        "models_states = OrderedDict()\n",
        "for epoch in range(max_nb_epochs):\n",
        "    for i in range(x_data.size(0)):\n",
        "        x_i = x_data[ i:i + 1, :]\n",
        "        y_i = y_data[ i:i + 1]\n",
        "        # reset gradients to zero\n",
        "        optimizer.zero_grad()\n",
        "        # forward:\n",
        "        outputs = net(x_i)\n",
        "        loss = criterion(outputs, y_i)\n",
        "        # backpropagation:\n",
        "        loss.backward()\n",
        "        optimizer.step()\n",
        "    # After epoch, computes average loss on training set\n",
        "    train_outputs = net(x_data)\n",
        "    train_loss = criterion(train_outputs, y_data)\n",
        "    losses.append(train_loss.data.item()) # record cost (loss) after each epoch\n",
        "    models_states[len(losses)] = copy.deepcopy(net.state_dict())\n",
        "    if len(losses) % window_size == 1:\n",
        "        print(\"%04d\\t%g\" %(len(losses), losses[-1]) )\n",
        "        \n",
        "    # # Should we stop ?\n",
        "    # if len(losses) > min_nb_epochs:\n",
        "    #     last_avg_loss = np.mean(losses[-window_size:])\n",
        "    #     before_avg_loss = np.mean(losses[-2*window_size:-window_size])\n",
        "    #     if abs(last_avg_loss-before_avg_loss) < min_change:\n",
        "    #         print(\"no more changes: stopping !\")\n",
        "    #         break\n",
        "\n",
        "plt.plot(losses, label=\"loss\")\n",
        "plt.legend()\n",
        "print(losses[-1])"
      ],
      "metadata": {
        "colab": {
          "base_uri": "https://localhost:8080/",
          "height": 1000
        },
        "id": "cyB4VdZiJa1I",
        "outputId": "df2c275b-2cee-4e8e-bb23-728dcf5fead2"
      },
      "execution_count": 36,
      "outputs": [
        {
          "output_type": "stream",
          "name": "stdout",
          "text": [
            "0001\t2.04513e-05\n",
            "0011\t2.04441e-05\n",
            "0021\t2.0437e-05\n",
            "0031\t2.04334e-05\n",
            "0041\t2.04251e-05\n",
            "0051\t2.04203e-05\n",
            "0061\t2.04144e-05\n",
            "0071\t2.04096e-05\n",
            "0081\t2.04037e-05\n",
            "0091\t2.03989e-05\n",
            "0101\t2.03929e-05\n",
            "0111\t2.0387e-05\n",
            "0121\t2.03822e-05\n",
            "0131\t2.03751e-05\n",
            "0141\t2.03703e-05\n",
            "0151\t2.03644e-05\n",
            "0161\t2.03608e-05\n",
            "0171\t2.03536e-05\n",
            "0181\t2.03489e-05\n",
            "0191\t2.03441e-05\n",
            "0201\t2.03405e-05\n",
            "0211\t2.03334e-05\n",
            "0221\t2.03286e-05\n",
            "0231\t2.03239e-05\n",
            "0241\t2.03203e-05\n",
            "0251\t2.03143e-05\n",
            "0261\t2.03108e-05\n",
            "0271\t2.03048e-05\n",
            "0281\t2.03e-05\n",
            "0291\t2.02965e-05\n",
            "0301\t2.02929e-05\n",
            "0311\t2.02858e-05\n",
            "0321\t2.02822e-05\n",
            "0331\t2.02762e-05\n",
            "0341\t2.02715e-05\n",
            "0351\t2.02667e-05\n",
            "0361\t2.02631e-05\n",
            "0371\t2.02572e-05\n",
            "0381\t2.02524e-05\n",
            "0391\t2.02488e-05\n",
            "0401\t2.02441e-05\n",
            "0411\t2.02393e-05\n",
            "0421\t2.02345e-05\n",
            "0431\t2.02298e-05\n",
            "0441\t2.0225e-05\n",
            "0451\t2.02191e-05\n",
            "0461\t2.02131e-05\n",
            "0471\t2.02083e-05\n",
            "0481\t2.02036e-05\n",
            "0491\t2.01988e-05\n",
            "0501\t2.01928e-05\n",
            "0511\t2.01881e-05\n",
            "0521\t2.01833e-05\n",
            "0531\t2.01786e-05\n",
            "0541\t2.01738e-05\n",
            "0551\t2.0169e-05\n",
            "0561\t2.01631e-05\n",
            "0571\t2.01571e-05\n",
            "0581\t2.01524e-05\n",
            "0591\t2.01488e-05\n",
            "0601\t2.0144e-05\n",
            "0611\t2.01404e-05\n",
            "0621\t2.01345e-05\n",
            "0631\t2.01297e-05\n",
            "0641\t2.01238e-05\n",
            "0651\t2.01214e-05\n",
            "0661\t2.01166e-05\n",
            "0671\t2.01119e-05\n",
            "0681\t2.01071e-05\n",
            "0691\t2.01023e-05\n",
            "0701\t2.00976e-05\n",
            "0711\t2.00928e-05\n",
            "0721\t2.00868e-05\n",
            "0731\t2.00833e-05\n",
            "0741\t2.00773e-05\n",
            "0751\t2.00726e-05\n",
            "0761\t2.00678e-05\n",
            "0771\t2.0063e-05\n",
            "0781\t2.00571e-05\n",
            "0791\t2.00535e-05\n",
            "0801\t2.00475e-05\n",
            "0811\t2.0044e-05\n",
            "0821\t2.00392e-05\n",
            "0831\t2.00344e-05\n",
            "0841\t2.00273e-05\n",
            "0851\t2.00237e-05\n",
            "0861\t2.0019e-05\n",
            "0871\t2.0013e-05\n",
            "0881\t2.00094e-05\n",
            "0891\t2.00058e-05\n",
            "0901\t1.99999e-05\n",
            "0911\t1.99939e-05\n",
            "0921\t1.99904e-05\n",
            "0931\t1.99856e-05\n",
            "0941\t1.99808e-05\n",
            "0951\t1.99761e-05\n",
            "0961\t1.99725e-05\n",
            "0971\t1.99689e-05\n",
            "0981\t1.99618e-05\n",
            "0991\t1.9957e-05\n",
            "1001\t1.99522e-05\n",
            "1011\t1.99475e-05\n",
            "1021\t1.99439e-05\n",
            "1031\t1.99403e-05\n",
            "1041\t1.99344e-05\n",
            "1051\t1.99296e-05\n",
            "1061\t1.99249e-05\n",
            "1071\t1.99201e-05\n",
            "1081\t1.99141e-05\n",
            "1091\t1.99094e-05\n",
            "1101\t1.99046e-05\n",
            "1111\t1.9901e-05\n",
            "1121\t1.98951e-05\n",
            "1131\t1.98903e-05\n",
            "1141\t1.98856e-05\n",
            "1151\t1.98808e-05\n",
            "1161\t1.9876e-05\n",
            "1171\t1.98713e-05\n",
            "1181\t1.98665e-05\n",
            "1191\t1.98605e-05\n",
            "1201\t1.9857e-05\n",
            "1211\t1.98522e-05\n",
            "1221\t1.98474e-05\n",
            "1231\t1.98439e-05\n",
            "1241\t1.98379e-05\n",
            "1251\t1.98331e-05\n",
            "1261\t1.98284e-05\n",
            "1271\t1.98224e-05\n",
            "1281\t1.98188e-05\n",
            "1291\t1.98141e-05\n",
            "1301\t1.98105e-05\n",
            "1311\t1.98057e-05\n",
            "1321\t1.97986e-05\n",
            "1331\t1.9795e-05\n",
            "1341\t1.97903e-05\n",
            "1351\t1.97867e-05\n",
            "1361\t1.97807e-05\n",
            "1371\t1.97772e-05\n",
            "1381\t1.97712e-05\n",
            "1391\t1.97676e-05\n",
            "1401\t1.97629e-05\n",
            "1411\t1.97581e-05\n",
            "1421\t1.97533e-05\n",
            "1431\t1.97486e-05\n",
            "1441\t1.97426e-05\n",
            "1451\t1.9739e-05\n",
            "1461\t1.97343e-05\n",
            "1471\t1.97295e-05\n",
            "1481\t1.97248e-05\n",
            "1491\t1.972e-05\n",
            "1501\t1.97152e-05\n",
            "1511\t1.97116e-05\n",
            "1521\t1.97069e-05\n",
            "1531\t1.97021e-05\n",
            "1541\t1.96974e-05\n",
            "1551\t1.96914e-05\n",
            "1561\t1.96878e-05\n",
            "1571\t1.96831e-05\n",
            "1581\t1.96783e-05\n",
            "1591\t1.96759e-05\n",
            "1601\t1.96712e-05\n",
            "1611\t1.96664e-05\n",
            "1621\t1.96592e-05\n",
            "1631\t1.96557e-05\n",
            "1641\t1.96509e-05\n",
            "1651\t1.96461e-05\n",
            "1661\t1.96426e-05\n",
            "1671\t1.9639e-05\n",
            "1681\t1.96342e-05\n",
            "1691\t1.96283e-05\n",
            "1701\t1.96247e-05\n",
            "1711\t1.96187e-05\n",
            "1721\t1.9614e-05\n",
            "1731\t1.96104e-05\n",
            "1741\t1.96056e-05\n",
            "1751\t1.96009e-05\n",
            "1761\t1.95961e-05\n",
            "1771\t1.95913e-05\n",
            "1781\t1.95878e-05\n",
            "1791\t1.9583e-05\n",
            "1801\t1.95794e-05\n",
            "1811\t1.95747e-05\n",
            "1821\t1.95675e-05\n",
            "1831\t1.9564e-05\n",
            "1841\t1.95592e-05\n",
            "1851\t1.95544e-05\n",
            "1861\t1.95497e-05\n",
            "1871\t1.95449e-05\n",
            "1881\t1.95401e-05\n",
            "1891\t1.95366e-05\n",
            "1901\t1.95318e-05\n",
            "1911\t1.9527e-05\n",
            "1921\t1.95223e-05\n",
            "1931\t1.95175e-05\n",
            "1941\t1.95127e-05\n",
            "1951\t1.9508e-05\n",
            "1961\t1.95044e-05\n",
            "1971\t1.94996e-05\n",
            "1981\t1.94949e-05\n",
            "1991\t1.94925e-05\n",
            "2001\t1.94865e-05\n",
            "2011\t1.94818e-05\n",
            "2021\t1.9477e-05\n",
            "2031\t1.94734e-05\n",
            "2041\t1.94687e-05\n",
            "2051\t1.94651e-05\n",
            "2061\t1.94615e-05\n",
            "2071\t1.94544e-05\n",
            "2081\t1.94508e-05\n",
            "2091\t1.94448e-05\n",
            "2101\t1.94413e-05\n",
            "2111\t1.94365e-05\n",
            "2121\t1.94329e-05\n",
            "2131\t1.94282e-05\n",
            "2141\t1.94246e-05\n",
            "2151\t1.94198e-05\n",
            "2161\t1.94139e-05\n",
            "2171\t1.94091e-05\n",
            "2181\t1.94055e-05\n",
            "2191\t1.93996e-05\n",
            "2201\t1.93948e-05\n",
            "2211\t1.93912e-05\n",
            "2221\t1.93853e-05\n",
            "2231\t1.93817e-05\n",
            "2241\t1.93769e-05\n",
            "2251\t1.93722e-05\n",
            "2261\t1.93686e-05\n",
            "2271\t1.93638e-05\n",
            "2281\t1.93591e-05\n",
            "2291\t1.93543e-05\n",
            "2301\t1.93496e-05\n",
            "2311\t1.93436e-05\n",
            "2321\t1.934e-05\n",
            "2331\t1.93364e-05\n",
            "2341\t1.93317e-05\n",
            "2351\t1.93281e-05\n",
            "2361\t1.93233e-05\n",
            "2371\t1.93186e-05\n",
            "2381\t1.93138e-05\n",
            "2391\t1.93091e-05\n",
            "2401\t1.93043e-05\n",
            "2411\t1.92995e-05\n",
            "2421\t1.9296e-05\n",
            "2431\t1.92912e-05\n",
            "2441\t1.92876e-05\n",
            "2451\t1.92828e-05\n",
            "2461\t1.92781e-05\n",
            "2471\t1.92733e-05\n",
            "2481\t1.92686e-05\n",
            "2491\t1.92626e-05\n",
            "2501\t1.9259e-05\n",
            "2511\t1.92543e-05\n",
            "2521\t1.92507e-05\n",
            "2531\t1.92471e-05\n",
            "2541\t1.92424e-05\n",
            "2551\t1.92388e-05\n",
            "2561\t1.92328e-05\n",
            "2571\t1.92281e-05\n",
            "2581\t1.92221e-05\n",
            "2591\t1.92161e-05\n",
            "2601\t1.92126e-05\n",
            "2611\t1.9209e-05\n",
            "2621\t1.92054e-05\n",
            "2631\t1.92019e-05\n",
            "2641\t1.91959e-05\n",
            "2651\t1.91923e-05\n",
            "2661\t1.91876e-05\n",
            "2671\t1.9184e-05\n",
            "2681\t1.9178e-05\n",
            "2691\t1.91756e-05\n",
            "2701\t1.91685e-05\n",
            "2711\t1.91661e-05\n",
            "2721\t1.91625e-05\n",
            "2731\t1.91578e-05\n",
            "2741\t1.9153e-05\n",
            "2751\t1.91494e-05\n",
            "2761\t1.91435e-05\n",
            "2771\t1.91411e-05\n",
            "2781\t1.91363e-05\n",
            "2791\t1.91316e-05\n",
            "2801\t1.91268e-05\n",
            "2811\t1.91232e-05\n",
            "2821\t1.91197e-05\n",
            "2831\t1.91137e-05\n",
            "2841\t1.91101e-05\n",
            "2851\t1.91054e-05\n",
            "2861\t1.91006e-05\n",
            "2871\t1.9097e-05\n",
            "2881\t1.90911e-05\n",
            "2891\t1.90851e-05\n",
            "2901\t1.90815e-05\n",
            "2911\t1.9078e-05\n",
            "2921\t1.9072e-05\n",
            "2931\t1.90684e-05\n",
            "2941\t1.90649e-05\n",
            "2951\t1.90601e-05\n",
            "2961\t1.90553e-05\n",
            "2971\t1.90506e-05\n",
            "2981\t1.9047e-05\n",
            "2991\t1.90446e-05\n",
            "1.9038663594983518e-05\n"
          ]
        },
        {
          "output_type": "display_data",
          "data": {
            "image/png": "[encoded data removed]",
            "text/plain": [
              "<Figure size 432x288 with 1 Axes>"
            ]
          },
          "metadata": {
            "needs_background": "light"
          }
        }
      ]
    },
    {
      "cell_type": "code",
      "source": [
        "optimizer = torch.optim.SGD(net.parameters(), lr=0.15, momentum=0.1)\n",
        "# Learning (without mini-batch)\n",
        "\n",
        "min_nb_epochs = 100\n",
        "max_nb_epochs = 3000\n",
        "\n",
        "# Stop criteria: no average on window did not change more than min_change\n",
        "window_size=10\n",
        "min_change=1e-4\n",
        "\n",
        "losses = []\n",
        "models_states = OrderedDict()\n",
        "for epoch in range(max_nb_epochs):\n",
        "    for i in range(x_data.size(0)):\n",
        "        x_i = x_data[ i:i + 1, :]\n",
        "        y_i = y_data[ i:i + 1]\n",
        "        # reset gradients to zero\n",
        "        optimizer.zero_grad()\n",
        "        # forward:\n",
        "        outputs = net(x_i)\n",
        "        loss = criterion(outputs, y_i)\n",
        "        # backpropagation:\n",
        "        loss.backward()\n",
        "        optimizer.step()\n",
        "    # After epoch, computes average loss on training set\n",
        "    train_outputs = net(x_data)\n",
        "    train_loss = criterion(train_outputs, y_data)\n",
        "    losses.append(train_loss.data.item()) # record cost (loss) after each epoch\n",
        "    models_states[len(losses)] = copy.deepcopy(net.state_dict())\n",
        "    if len(losses) % window_size == 1:\n",
        "        print(\"%04d\\t%g\" %(len(losses), losses[-1]) )\n",
        "        \n",
        "    # # Should we stop ?\n",
        "    # if len(losses) > min_nb_epochs:\n",
        "    #     last_avg_loss = np.mean(losses[-window_size:])\n",
        "    #     before_avg_loss = np.mean(losses[-2*window_size:-window_size])\n",
        "    #     if abs(last_avg_loss-before_avg_loss) < min_change:\n",
        "    #         print(\"no more changes: stopping !\")\n",
        "    #         break\n",
        "\n",
        "plt.plot(losses, label=\"loss\")\n",
        "plt.legend()\n",
        "print(losses[-1])"
      ],
      "metadata": {
        "colab": {
          "base_uri": "https://localhost:8080/",
          "height": 1000
        },
        "id": "Yb3GRT4dJ0TZ",
        "outputId": "760b3134-3fb4-4d19-d85d-5dc27dcf8423"
      },
      "execution_count": 37,
      "outputs": [
        {
          "output_type": "stream",
          "name": "stdout",
          "text": [
            "0001\t1.90243e-05\n",
            "0011\t1.87646e-05\n",
            "0021\t1.84108e-05\n",
            "0031\t1.80666e-05\n",
            "0041\t1.77378e-05\n",
            "0051\t1.74221e-05\n",
            "0061\t1.7116e-05\n",
            "0071\t1.68205e-05\n",
            "0081\t1.65358e-05\n",
            "0091\t1.62607e-05\n",
            "0101\t1.59962e-05\n",
            "0111\t1.57365e-05\n",
            "0121\t1.54899e-05\n",
            "0131\t1.52457e-05\n",
            "0141\t1.50146e-05\n",
            "0151\t1.47882e-05\n",
            "0161\t1.45678e-05\n",
            "0171\t1.43534e-05\n",
            "0181\t1.4146e-05\n",
            "0191\t1.39459e-05\n",
            "0201\t1.37505e-05\n",
            "0211\t1.35611e-05\n",
            "0221\t1.33764e-05\n",
            "0231\t1.31965e-05\n",
            "0241\t1.30225e-05\n",
            "0251\t1.28498e-05\n",
            "0261\t1.26854e-05\n",
            "0271\t1.25257e-05\n",
            "0281\t1.23672e-05\n",
            "0291\t1.22147e-05\n",
            "0301\t1.20634e-05\n",
            "0311\t1.19169e-05\n",
            "0321\t1.17775e-05\n",
            "0331\t1.16357e-05\n",
            "0341\t1.14986e-05\n",
            "0351\t1.13676e-05\n",
            "0361\t1.12389e-05\n",
            "0371\t1.11102e-05\n",
            "0381\t1.09851e-05\n",
            "0391\t1.08897e-05\n",
            "0401\t1.08016e-05\n",
            "0411\t1.06896e-05\n",
            "0421\t1.05621e-05\n",
            "0431\t1.04417e-05\n",
            "0441\t1.03285e-05\n",
            "0451\t1.02189e-05\n",
            "0461\t1.0226e-05\n",
            "0471\t1.0058e-05\n",
            "0481\t9.93291e-06\n",
            "0491\t9.83282e-06\n",
            "0501\t9.79585e-06\n",
            "0511\t9.65407e-06\n",
            "0521\t9.65045e-06\n",
            "0531\t9.48605e-06\n",
            "0541\t9.39073e-06\n",
            "0551\t9.32875e-06\n",
            "0561\t9.21317e-06\n",
            "0571\t9.18216e-06\n",
            "0581\t9.05706e-06\n",
            "0591\t9.05226e-06\n",
            "0601\t8.9081e-06\n",
            "0611\t8.90211e-06\n",
            "0621\t8.75557e-06\n",
            "0631\t8.74362e-06\n",
            "0641\t8.60304e-06\n",
            "0651\t8.57203e-06\n",
            "0661\t8.46004e-06\n",
            "0671\t8.41474e-06\n",
            "0681\t8.39565e-06\n",
            "0691\t8.25745e-06\n",
            "0701\t8.21335e-06\n",
            "0711\t8.19188e-06\n",
            "0721\t8.0632e-06\n",
            "0731\t8.02268e-06\n",
            "0741\t8.0024e-06\n",
            "0751\t7.87968e-06\n",
            "0761\t7.84034e-06\n",
            "0771\t7.82007e-06\n",
            "0781\t7.7033e-06\n",
            "0791\t7.66516e-06\n",
            "0801\t7.6437e-06\n",
            "0811\t7.53289e-06\n",
            "0821\t7.49713e-06\n",
            "0831\t7.47805e-06\n",
            "0841\t7.37319e-06\n",
            "0851\t7.33505e-06\n",
            "0861\t7.31955e-06\n",
            "0871\t7.2135e-06\n",
            "0881\t7.18132e-06\n",
            "0891\t7.16343e-06\n",
            "0901\t7.06572e-06\n",
            "0911\t7.03354e-06\n",
            "0921\t7.01685e-06\n",
            "0931\t6.92271e-06\n",
            "0941\t6.89291e-06\n",
            "0951\t6.87622e-06\n",
            "0961\t6.78685e-06\n",
            "0971\t6.75705e-06\n",
            "0981\t6.74155e-06\n",
            "0991\t6.65457e-06\n",
            "1001\t6.62477e-06\n",
            "1011\t6.60807e-06\n",
            "1021\t6.52466e-06\n",
            "1031\t6.49844e-06\n",
            "1041\t6.48175e-06\n",
            "1051\t6.40548e-06\n",
            "1061\t6.37449e-06\n",
            "1071\t6.36257e-06\n",
            "1081\t6.28869e-06\n",
            "1091\t6.26008e-06\n",
            "1101\t6.23743e-06\n",
            "1111\t6.18977e-06\n",
            "1121\t6.1409e-06\n",
            "1131\t6.12064e-06\n",
            "1141\t6.10395e-06\n",
            "1151\t6.02649e-06\n",
            "1161\t6.00146e-06\n",
            "1171\t5.98239e-06\n",
            "1181\t5.93949e-06\n",
            "1191\t5.89301e-06\n",
            "1201\t5.86798e-06\n",
            "1211\t5.85367e-06\n",
            "1221\t5.80124e-06\n",
            "1231\t5.76191e-06\n",
            "1241\t5.73926e-06\n",
            "1251\t5.72257e-06\n",
            "1261\t5.66537e-06\n",
            "1271\t5.63558e-06\n",
            "1281\t5.61889e-06\n",
            "1291\t5.59862e-06\n",
            "1301\t5.54381e-06\n",
            "1311\t5.51639e-06\n",
            "1321\t5.49971e-06\n",
            "1331\t5.48421e-06\n",
            "1341\t5.42224e-06\n",
            "1351\t5.40198e-06\n",
            "1361\t5.38171e-06\n",
            "1371\t5.35192e-06\n",
            "1381\t5.31021e-06\n",
            "1391\t5.29114e-06\n",
            "1401\t5.27326e-06\n",
            "1411\t5.24108e-06\n",
            "1421\t5.20413e-06\n",
            "1431\t5.18626e-06\n",
            "1441\t5.17314e-06\n",
            "1451\t5.13143e-06\n",
            "1461\t5.10164e-06\n",
            "1471\t5.08137e-06\n",
            "1481\t5.07064e-06\n",
            "1491\t5.02536e-06\n",
            "1501\t5.00152e-06\n",
            "1511\t4.98841e-06\n",
            "1521\t4.9741e-06\n",
            "1531\t4.92763e-06\n",
            "1541\t4.90975e-06\n",
            "1551\t4.89187e-06\n",
            "1561\t4.86684e-06\n",
            "1571\t4.83585e-06\n",
            "1581\t4.81797e-06\n",
            "1591\t4.80724e-06\n",
            "1601\t4.76673e-06\n",
            "1611\t4.74527e-06\n",
            "1621\t4.73335e-06\n",
            "1631\t4.72381e-06\n",
            "1641\t4.67733e-06\n",
            "1651\t4.66184e-06\n",
            "1661\t4.64992e-06\n",
            "1671\t4.6237e-06\n",
            "1681\t4.5939e-06\n",
            "1691\t4.58079e-06\n",
            "1701\t4.56887e-06\n",
            "1711\t4.53073e-06\n",
            "1721\t4.51405e-06\n",
            "1731\t4.50094e-06\n",
            "1741\t4.49021e-06\n",
            "1751\t4.45326e-06\n",
            "1761\t4.43777e-06\n",
            "1771\t4.42585e-06\n",
            "1781\t4.4044e-06\n",
            "1791\t4.37579e-06\n",
            "1801\t4.36387e-06\n",
            "1811\t4.35314e-06\n",
            "1821\t4.32335e-06\n",
            "1831\t4.30428e-06\n",
            "1841\t4.29236e-06\n",
            "1851\t4.28282e-06\n",
            "1861\t4.24588e-06\n",
            "1871\t4.23276e-06\n",
            "1881\t4.22442e-06\n",
            "1891\t4.20416e-06\n",
            "1901\t4.17913e-06\n",
            "1911\t4.1684e-06\n",
            "1921\t4.15886e-06\n",
            "1931\t4.12907e-06\n",
            "1941\t4.11715e-06\n",
            "1951\t4.10285e-06\n",
            "1961\t4.08378e-06\n",
            "1971\t4.06232e-06\n",
            "1981\t4.05159e-06\n",
            "1991\t4.04206e-06\n",
            "2001\t4.01346e-06\n",
            "2011\t3.99915e-06\n",
            "2021\t3.98962e-06\n",
            "2031\t3.97412e-06\n",
            "2041\t3.95028e-06\n",
            "2051\t3.94194e-06\n",
            "2061\t3.9324e-06\n",
            "2071\t3.90499e-06\n",
            "2081\t3.89188e-06\n",
            "2091\t3.88234e-06\n",
            "2101\t3.86685e-06\n",
            "2111\t3.8442e-06\n",
            "2121\t3.83586e-06\n",
            "2131\t3.82752e-06\n",
            "2141\t3.80249e-06\n",
            "2151\t3.79176e-06\n",
            "2161\t3.78103e-06\n",
            "2171\t3.76792e-06\n",
            "2181\t3.74528e-06\n",
            "2191\t3.73574e-06\n",
            "2201\t3.72859e-06\n",
            "2211\t3.70594e-06\n",
            "2221\t3.69045e-06\n",
            "2231\t3.6821e-06\n",
            "2241\t3.67614e-06\n",
            "2251\t3.64873e-06\n",
            "2261\t3.64039e-06\n",
            "2271\t3.63323e-06\n",
            "2281\t3.61178e-06\n",
            "2291\t3.60225e-06\n",
            "2301\t3.59628e-06\n",
            "2311\t3.57364e-06\n",
            "2321\t3.5641e-06\n",
            "2331\t3.55576e-06\n",
            "2341\t3.54265e-06\n",
            "2351\t3.52358e-06\n",
            "2361\t3.51762e-06\n",
            "2371\t3.50451e-06\n",
            "2381\t3.48663e-06\n",
            "2391\t3.47829e-06\n",
            "2401\t3.47113e-06\n",
            "2411\t3.45087e-06\n",
            "2421\t3.44253e-06\n",
            "2431\t3.43538e-06\n",
            "2441\t3.41631e-06\n",
            "2451\t3.40558e-06\n",
            "2461\t3.402e-06\n",
            "2471\t3.38174e-06\n",
            "2481\t3.3722e-06\n",
            "2491\t3.36624e-06\n",
            "2501\t3.34598e-06\n",
            "2511\t3.33525e-06\n",
            "2521\t3.32929e-06\n",
            "2531\t3.31976e-06\n",
            "2541\t3.30426e-06\n",
            "2551\t3.29592e-06\n",
            "2561\t3.28639e-06\n",
            "2571\t3.27208e-06\n",
            "2581\t3.26493e-06\n",
            "2591\t3.2554e-06\n",
            "2601\t3.23871e-06\n",
            "2611\t3.23394e-06\n",
            "2621\t3.22679e-06\n",
            "2631\t3.2101e-06\n",
            "2641\t3.20414e-06\n",
            "2651\t3.19103e-06\n",
            "2661\t3.17792e-06\n",
            "2671\t3.17315e-06\n",
            "2681\t3.16242e-06\n",
            "2691\t3.14812e-06\n",
            "2701\t3.14216e-06\n",
            "2711\t3.13382e-06\n",
            "2721\t3.11951e-06\n",
            "2731\t3.11355e-06\n",
            "2741\t3.10402e-06\n",
            "2751\t3.09091e-06\n",
            "2761\t3.08495e-06\n",
            "2771\t3.07541e-06\n",
            "2781\t3.06349e-06\n",
            "2791\t3.05753e-06\n",
            "2801\t3.048e-06\n",
            "2811\t3.03489e-06\n",
            "2821\t3.02893e-06\n",
            "2831\t3.02058e-06\n",
            "2841\t3.00628e-06\n",
            "2851\t3.0027e-06\n",
            "2861\t2.99078e-06\n",
            "2871\t2.97767e-06\n",
            "2881\t2.97529e-06\n",
            "2891\t2.96456e-06\n",
            "2901\t2.95264e-06\n",
            "2911\t2.94787e-06\n",
            "2921\t2.93715e-06\n",
            "2931\t2.92642e-06\n",
            "2941\t2.91927e-06\n",
            "2951\t2.91211e-06\n",
            "2961\t2.9002e-06\n",
            "2971\t2.89662e-06\n",
            "2981\t2.88708e-06\n",
            "2991\t2.87516e-06\n",
            "2.873971425287891e-06\n"
          ]
        },
        {
          "output_type": "display_data",
          "data": {
            "image/png": "[encoded data removed]",
            "text/plain": [
              "<Figure size 432x288 with 1 Axes>"
            ]
          },
          "metadata": {
            "needs_background": "light"
          }
        }
      ]
    },
    {
      "cell_type": "markdown",
      "metadata": {
        "id": "5vt0DpgAuOVH"
      },
      "source": [
        "- Try to enhance the neural network model: change `N1`, `N2`: for each values, record the value of the cost, the number of errors and the error rate. What is your optimal architecture ? Refer the result below, N1 = 6 and N2 = 2 "
      ]
    },
    {
      "cell_type": "code",
      "execution_count": 76,
      "metadata": {
        "id": "oMROTVmvuOVH"
      },
      "outputs": [],
      "source": [
        "# Create network and optimizer:\n",
        "def network_opt(N1_=5,N2_=5,min_nb_epochs_=100,max_nb_epochs_=3000,lr_=0.05,momentum_=0.1,stop=True):\n",
        "  torch.manual_seed(12345678) # for reproducibility\n",
        "  net = Net2(N1=N1_, N2=N2_)\n",
        "  # The criteria to optimize (cost function)\n",
        "  criterion = nn.CrossEntropyLoss()\n",
        "  #optimizer = torch.optim.Adam(net.parameters(), 0.008)\n",
        "\n",
        "  # Etonnants sauts !\n",
        "  # optimizer = torch.optim.SGD(net.parameters(), lr=0.05, momentum=0.3)\n",
        "\n",
        "  # Le meilleur trouvé:\n",
        "  optimizer = torch.optim.SGD(net.parameters(), lr=lr_, momentum=momentum_)\n",
        "  # Learning (without mini-batch)\n",
        "\n",
        "  min_nb_epochs = min_nb_epochs_\n",
        "  max_nb_epochs = max_nb_epochs_\n",
        "\n",
        "  # Stop criteria: no average on window did not change more than min_change\n",
        "  window_size=10\n",
        "  min_change=1e-4\n",
        "\n",
        "  losses = []\n",
        "  models_states = OrderedDict()\n",
        "  for epoch in range(max_nb_epochs):\n",
        "      for i in range(x_data.size(0)):\n",
        "          x_i = x_data[ i:i + 1, :]\n",
        "          y_i = y_data[ i:i + 1]\n",
        "          # reset gradients to zero\n",
        "          optimizer.zero_grad()\n",
        "          # forward:\n",
        "          outputs = net(x_i)\n",
        "          loss = criterion(outputs, y_i)\n",
        "          # backpropagation:\n",
        "          loss.backward()\n",
        "          optimizer.step()\n",
        "      # After epoch, computes average loss on training set\n",
        "      train_outputs = net(x_data)\n",
        "      train_loss = criterion(train_outputs, y_data)\n",
        "      losses.append(train_loss.data.item()) # record cost (loss) after each epoch\n",
        "      models_states[len(losses)] = copy.deepcopy(net.state_dict())\n",
        "      # if len(losses) % window_size == 1:\n",
        "      #     print(\"%04d\\t%g\" %(len(losses), losses[-1]) )\n",
        "          \n",
        "      # Should we stop ?\n",
        "      if (stop):\n",
        "        if len(losses) > min_nb_epochs:\n",
        "            last_avg_loss = np.mean(losses[-window_size:])\n",
        "            before_avg_loss = np.mean(losses[-2*window_size:-window_size])\n",
        "            if abs(last_avg_loss-before_avg_loss) < min_change:\n",
        "                print(\"no more changes: stopping !\")\n",
        "                break\n",
        "\n",
        "  plt.plot(losses, label=\"loss\")\n",
        "  plt.legend()\n",
        "  y_pred = net(x_data).detach().numpy()\n",
        "  CM = confusion_matrix(y, y_pred)\n",
        "  print(CM)\n",
        "  y_pred_class = [np.argmax(y_pred[i]) for i in range(len(y_pred))]\n",
        "  print(\"The number of errors: {}\".format(len(np.where(y_pred_class!=y)[0])))\n",
        "  error_rate = (len(np.where(y_pred_class!=y)[0]))/(len(y))\n",
        "  print(\"The errors rate: {}\".format(error_rate))\n",
        "  return losses[-1]"
      ]
    },
    {
      "cell_type": "code",
      "source": [
        "network_opt(N1_=5,N2_=5,min_nb_epochs_=100,max_nb_epochs_=3000,lr_=0.05,momentum_=0.1,stop=True)"
      ],
      "metadata": {
        "colab": {
          "base_uri": "https://localhost:8080/",
          "height": 369
        },
        "id": "l_QjFEwa3q1r",
        "outputId": "9b081a16-a3c6-48d4-8c27-b92c9f684b23"
      },
      "execution_count": 77,
      "outputs": [
        {
          "output_type": "stream",
          "name": "stdout",
          "text": [
            "no more changes: stopping !\n",
            "[[45.  5.]\n",
            " [ 6. 44.]]\n",
            "The number of errors: 11\n",
            "The errors rate: 0.11\n"
          ]
        },
        {
          "output_type": "execute_result",
          "data": {
            "text/plain": [
              "0.2781454920768738"
            ]
          },
          "metadata": {},
          "execution_count": 77
        },
        {
          "output_type": "display_data",
          "data": {
            "image/png": "[encoded data removed]",
            "text/plain": [
              "<Figure size 432x288 with 1 Axes>"
            ]
          },
          "metadata": {
            "needs_background": "light"
          }
        }
      ]
    },
    {
      "cell_type": "code",
      "source": [
        "error_arr=[]\n",
        "for i in range(1,11):\n",
        "  for j in range(1,11):\n",
        "    print(\"N and M are: {} {}\".format(i,j))\n",
        "    temp=network_opt(N1_=i,N2_=j,min_nb_epochs_=100,max_nb_epochs_=2000,lr_=0.05,momentum_=0.1,stop=True)\n",
        "    print(\"The value of cost: {}\".format(temp))\n",
        "    error_arr.append(temp)"
      ],
      "metadata": {
        "colab": {
          "base_uri": "https://localhost:8080/",
          "height": 1000
        },
        "id": "6rqY19NA7GL1",
        "outputId": "cf861fbf-cf39-4805-baba-3f8b02aaad2b"
      },
      "execution_count": 78,
      "outputs": [
        {
          "output_type": "stream",
          "name": "stdout",
          "text": [
            "N and M are: 1 1\n",
            "no more changes: stopping !\n",
            "[[44.  6.]\n",
            " [ 6. 44.]]\n",
            "The number of errors: 12\n",
            "The errors rate: 0.12\n",
            "The value of cost: 0.31424614787101746\n",
            "N and M are: 1 2\n",
            "no more changes: stopping !\n",
            "[[ 0. 50.]\n",
            " [ 0. 50.]]\n",
            "The number of errors: 50\n",
            "The errors rate: 0.5\n",
            "The value of cost: 0.6934855580329895\n",
            "N and M are: 1 3\n",
            "no more changes: stopping !\n",
            "[[43.  7.]\n",
            " [ 6. 44.]]\n",
            "The number of errors: 13\n",
            "The errors rate: 0.13\n",
            "The value of cost: 0.2996980845928192\n",
            "N and M are: 1 4\n",
            "no more changes: stopping !\n",
            "[[43.  7.]\n",
            " [ 6. 44.]]\n",
            "The number of errors: 13\n",
            "The errors rate: 0.13\n",
            "The value of cost: 0.2996930778026581\n",
            "N and M are: 1 5\n",
            "no more changes: stopping !\n",
            "[[46.  4.]\n",
            " [ 8. 42.]]\n",
            "The number of errors: 12\n",
            "The errors rate: 0.12\n",
            "The value of cost: 0.3018838167190552\n",
            "N and M are: 1 6\n",
            "no more changes: stopping !\n",
            "[[44.  6.]\n",
            " [ 6. 44.]]\n",
            "The number of errors: 12\n",
            "The errors rate: 0.12\n",
            "The value of cost: 0.31130799651145935\n",
            "N and M are: 1 7\n",
            "no more changes: stopping !\n",
            "[[44.  6.]\n",
            " [ 6. 44.]]\n",
            "The number of errors: 12\n",
            "The errors rate: 0.12\n",
            "The value of cost: 0.31005632877349854\n",
            "N and M are: 1 8\n",
            "no more changes: stopping !\n",
            "[[46.  4.]\n",
            " [ 8. 42.]]\n",
            "The number of errors: 12\n",
            "The errors rate: 0.12\n",
            "The value of cost: 0.30743059515953064\n",
            "N and M are: 1 9\n",
            "no more changes: stopping !\n",
            "[[44.  6.]\n",
            " [ 6. 44.]]\n",
            "The number of errors: 12\n",
            "The errors rate: 0.12\n",
            "The value of cost: 0.30999231338500977\n",
            "N and M are: 1 10\n",
            "no more changes: stopping !\n",
            "[[42.  8.]\n",
            " [ 6. 44.]]\n",
            "The number of errors: 14\n",
            "The errors rate: 0.14\n",
            "The value of cost: 0.30398285388946533\n",
            "N and M are: 2 1\n",
            "no more changes: stopping !\n",
            "[[ 0. 50.]\n",
            " [ 0. 50.]]\n",
            "The number of errors: 50\n",
            "The errors rate: 0.5\n",
            "The value of cost: 0.6934854388237\n",
            "N and M are: 2 2\n",
            "no more changes: stopping !\n",
            "[[44.  6.]\n",
            " [ 6. 44.]]\n",
            "The number of errors: 12\n",
            "The errors rate: 0.12\n",
            "The value of cost: 0.3142491579055786\n",
            "N and M are: 2 3\n",
            "no more changes: stopping !\n",
            "[[ 0. 50.]\n",
            " [ 0. 50.]]\n",
            "The number of errors: 50\n",
            "The errors rate: 0.5\n",
            "The value of cost: 0.6934855580329895\n",
            "N and M are: 2 4\n",
            "no more changes: stopping !\n",
            "[[44.  6.]\n",
            " [ 6. 44.]]\n",
            "The number of errors: 12\n",
            "The errors rate: 0.12\n",
            "The value of cost: 0.31424158811569214\n",
            "N and M are: 2 5\n",
            "no more changes: stopping !\n",
            "[[ 0. 50.]\n",
            " [ 0. 50.]]\n",
            "The number of errors: 50\n",
            "The errors rate: 0.5\n",
            "The value of cost: 0.6934855580329895\n",
            "N and M are: 2 6\n",
            "no more changes: stopping !\n",
            "[[46.  4.]\n",
            " [ 8. 42.]]\n",
            "The number of errors: 12\n",
            "The errors rate: 0.12\n",
            "The value of cost: 0.30508795380592346\n",
            "N and M are: 2 7\n",
            "no more changes: stopping !\n",
            "[[44.  6.]\n",
            " [ 6. 44.]]\n",
            "The number of errors: 12\n",
            "The errors rate: 0.12\n",
            "The value of cost: 0.30952709913253784\n",
            "N and M are: 2 8\n",
            "no more changes: stopping !\n",
            "[[44.  6.]\n",
            " [ 6. 44.]]\n",
            "The number of errors: 12\n",
            "The errors rate: 0.12\n",
            "The value of cost: 0.2787780463695526\n",
            "N and M are: 2 9\n",
            "no more changes: stopping !\n",
            "[[46.  4.]\n",
            " [ 8. 42.]]\n",
            "The number of errors: 12\n",
            "The errors rate: 0.12\n",
            "The value of cost: 0.3024955689907074\n",
            "N and M are: 2 10\n",
            "no more changes: stopping !\n",
            "[[46.  4.]\n",
            " [ 8. 42.]]\n",
            "The number of errors: 12\n",
            "The errors rate: 0.12\n",
            "The value of cost: 0.30200278759002686\n",
            "N and M are: 3 1\n",
            "no more changes: stopping !\n",
            "[[ 0. 50.]\n",
            " [ 0. 50.]]\n",
            "The number of errors: 50\n",
            "The errors rate: 0.5\n",
            "The value of cost: 0.6934854388237\n",
            "N and M are: 3 2\n",
            "no more changes: stopping !\n",
            "[[42.  8.]\n",
            " [ 6. 44.]]\n",
            "The number of errors: 14\n",
            "The errors rate: 0.14\n",
            "The value of cost: 0.3238469958305359\n",
            "N and M are: 3 3\n",
            "no more changes: stopping !\n",
            "[[42.  8.]\n",
            " [ 6. 44.]]\n",
            "The number of errors: 14\n",
            "The errors rate: 0.14\n",
            "The value of cost: 0.32383355498313904\n",
            "N and M are: 3 4\n",
            "no more changes: stopping !\n",
            "[[43.  7.]\n",
            " [ 6. 44.]]\n",
            "The number of errors: 13\n",
            "The errors rate: 0.13\n",
            "The value of cost: 0.30368801951408386\n",
            "N and M are: 3 5\n",
            "no more changes: stopping !\n",
            "[[42.  8.]\n",
            " [ 6. 44.]]\n",
            "The number of errors: 14\n",
            "The errors rate: 0.14\n",
            "The value of cost: 0.3042624592781067\n",
            "N and M are: 3 6\n",
            "no more changes: stopping !\n",
            "[[40. 10.]\n",
            " [ 3. 47.]]\n",
            "The number of errors: 13\n",
            "The errors rate: 0.13\n",
            "The value of cost: 0.23128898441791534\n",
            "N and M are: 3 7\n",
            "no more changes: stopping !\n",
            "[[48.  2.]\n",
            " [ 1. 49.]]\n",
            "The number of errors: 3\n",
            "The errors rate: 0.03\n",
            "The value of cost: 0.08080649375915527\n",
            "N and M are: 3 8\n",
            "no more changes: stopping !\n",
            "[[44.  6.]\n",
            " [ 6. 44.]]\n",
            "The number of errors: 12\n",
            "The errors rate: 0.12\n",
            "The value of cost: 0.310466468334198\n",
            "N and M are: 3 9\n",
            "no more changes: stopping !\n",
            "[[43.  7.]\n",
            " [ 6. 44.]]\n",
            "The number of errors: 13\n",
            "The errors rate: 0.13\n",
            "The value of cost: 0.30004751682281494\n",
            "N and M are: 3 10\n",
            "no more changes: stopping !\n",
            "[[42.  8.]\n",
            " [ 5. 45.]]\n",
            "The number of errors: 13\n",
            "The errors rate: 0.13\n",
            "The value of cost: 0.30041879415512085\n",
            "N and M are: 4 1\n",
            "no more changes: stopping !\n",
            "[[40. 10.]\n",
            " [ 3. 47.]]\n",
            "The number of errors: 13\n",
            "The errors rate: 0.13\n",
            "The value of cost: 0.27515238523483276\n",
            "N and M are: 4 2\n",
            "no more changes: stopping !\n",
            "[[42.  8.]\n",
            " [ 3. 47.]]\n",
            "The number of errors: 11\n",
            "The errors rate: 0.11\n",
            "The value of cost: 0.2673311233520508\n",
            "N and M are: 4 3\n",
            "no more changes: stopping !\n",
            "[[44.  6.]\n",
            " [ 6. 44.]]\n",
            "The number of errors: 12\n",
            "The errors rate: 0.12\n",
            "The value of cost: 0.31139299273490906\n",
            "N and M are: 4 4\n",
            "no more changes: stopping !\n",
            "[[42.  8.]\n",
            " [ 3. 47.]]\n",
            "The number of errors: 11\n",
            "The errors rate: 0.11\n",
            "The value of cost: 0.26167622208595276\n",
            "N and M are: 4 5\n",
            "no more changes: stopping !\n",
            "[[42.  8.]\n",
            " [ 3. 47.]]\n",
            "The number of errors: 11\n",
            "The errors rate: 0.11\n",
            "The value of cost: 0.2602870464324951\n",
            "N and M are: 4 6\n",
            "no more changes: stopping !\n",
            "[[46.  4.]\n",
            " [ 8. 42.]]\n",
            "The number of errors: 12\n",
            "The errors rate: 0.12\n",
            "The value of cost: 0.297612726688385\n",
            "N and M are: 4 7\n",
            "no more changes: stopping !\n",
            "[[44.  6.]\n",
            " [ 6. 44.]]\n",
            "The number of errors: 12\n",
            "The errors rate: 0.12\n",
            "The value of cost: 0.3111303746700287\n",
            "N and M are: 4 8\n",
            "no more changes: stopping !\n",
            "[[43.  7.]\n",
            " [ 3. 47.]]\n",
            "The number of errors: 10\n",
            "The errors rate: 0.1\n",
            "The value of cost: 0.2588389217853546\n",
            "N and M are: 4 9\n",
            "no more changes: stopping !\n",
            "[[44.  6.]\n",
            " [ 6. 44.]]\n",
            "The number of errors: 12\n",
            "The errors rate: 0.12\n",
            "The value of cost: 0.31131067872047424\n",
            "N and M are: 4 10\n",
            "no more changes: stopping !\n",
            "[[44.  6.]\n",
            " [ 6. 44.]]\n",
            "The number of errors: 12\n",
            "The errors rate: 0.12\n",
            "The value of cost: 0.30950719118118286\n",
            "N and M are: 5 1\n",
            "no more changes: stopping !\n",
            "[[46.  4.]\n",
            " [ 7. 43.]]\n",
            "The number of errors: 11\n",
            "The errors rate: 0.11\n",
            "The value of cost: 0.29295241832733154\n",
            "N and M are: 5 2\n",
            "no more changes: stopping !\n",
            "[[45.  5.]\n",
            " [ 6. 44.]]\n",
            "The number of errors: 11\n",
            "The errors rate: 0.11\n",
            "The value of cost: 0.26899662613868713\n",
            "N and M are: 5 3\n",
            "no more changes: stopping !\n",
            "[[38. 12.]\n",
            " [ 3. 47.]]\n",
            "The number of errors: 15\n",
            "The errors rate: 0.15\n",
            "The value of cost: 0.27776238322257996\n",
            "N and M are: 5 4\n",
            "no more changes: stopping !\n",
            "[[ 0. 50.]\n",
            " [ 0. 50.]]\n",
            "The number of errors: 50\n",
            "The errors rate: 0.5\n",
            "The value of cost: 0.6934854388237\n",
            "N and M are: 5 5\n",
            "no more changes: stopping !\n",
            "[[45.  5.]\n",
            " [ 6. 44.]]\n",
            "The number of errors: 11\n",
            "The errors rate: 0.11\n",
            "The value of cost: 0.2781454920768738\n",
            "N and M are: 5 6\n",
            "no more changes: stopping !\n",
            "[[47.  3.]\n",
            " [ 1. 49.]]\n",
            "The number of errors: 4\n",
            "The errors rate: 0.04\n",
            "The value of cost: 0.09646742045879364\n",
            "N and M are: 5 7\n",
            "no more changes: stopping !\n",
            "[[45.  5.]\n",
            " [ 6. 44.]]\n",
            "The number of errors: 11\n",
            "The errors rate: 0.11\n",
            "The value of cost: 0.27299243211746216\n",
            "N and M are: 5 8\n",
            "no more changes: stopping !\n",
            "[[45.  5.]\n",
            " [ 6. 44.]]\n",
            "The number of errors: 11\n",
            "The errors rate: 0.11\n",
            "The value of cost: 0.27051863074302673\n",
            "N and M are: 5 9\n",
            "no more changes: stopping !\n",
            "[[44.  6.]\n",
            " [ 6. 44.]]\n",
            "The number of errors: 12\n",
            "The errors rate: 0.12\n",
            "The value of cost: 0.30348148941993713\n",
            "N and M are: 5 10\n",
            "no more changes: stopping !\n",
            "[[48.  2.]\n",
            " [ 0. 50.]]\n",
            "The number of errors: 2\n",
            "The errors rate: 0.02\n",
            "The value of cost: 0.04850161075592041\n",
            "N and M are: 6 1\n",
            "no more changes: stopping !\n",
            "[[ 0. 50.]\n",
            " [ 0. 50.]]\n",
            "The number of errors: 50\n",
            "The errors rate: 0.5\n",
            "The value of cost: 0.6934854388237\n",
            "N and M are: 6 2\n",
            "no more changes: stopping !\n",
            "[[49.  1.]\n",
            " [ 0. 50.]]\n",
            "The number of errors: 1\n",
            "The errors rate: 0.01\n",
            "The value of cost: 0.04559670761227608\n",
            "N and M are: 6 3\n",
            "no more changes: stopping !\n",
            "[[ 0. 50.]\n",
            " [ 0. 50.]]\n",
            "The number of errors: 50\n",
            "The errors rate: 0.5\n",
            "The value of cost: 0.6934854388237\n",
            "N and M are: 6 4\n",
            "no more changes: stopping !\n",
            "[[44.  6.]\n",
            " [ 6. 44.]]\n",
            "The number of errors: 12\n",
            "The errors rate: 0.12\n",
            "The value of cost: 0.31086793541908264\n",
            "N and M are: 6 5\n",
            "no more changes: stopping !\n",
            "[[43.  7.]\n",
            " [ 6. 44.]]\n",
            "The number of errors: 13\n",
            "The errors rate: 0.13\n",
            "The value of cost: 0.3000653386116028\n",
            "N and M are: 6 6\n",
            "no more changes: stopping !\n",
            "[[44.  6.]\n",
            " [ 6. 44.]]\n",
            "The number of errors: 12\n",
            "The errors rate: 0.12\n",
            "The value of cost: 0.31159111857414246\n",
            "N and M are: 6 7\n",
            "no more changes: stopping !\n",
            "[[44.  6.]\n",
            " [ 6. 44.]]\n",
            "The number of errors: 12\n",
            "The errors rate: 0.12\n",
            "The value of cost: 0.3102681338787079\n",
            "N and M are: 6 8\n",
            "no more changes: stopping !\n",
            "[[47.  3.]\n",
            " [ 2. 48.]]\n",
            "The number of errors: 5\n",
            "The errors rate: 0.05\n",
            "The value of cost: 0.11738079786300659\n",
            "N and M are: 6 9\n",
            "no more changes: stopping !\n",
            "[[43.  7.]\n",
            " [ 6. 44.]]\n",
            "The number of errors: 13\n",
            "The errors rate: 0.13\n",
            "The value of cost: 0.2897736132144928\n",
            "N and M are: 6 10\n",
            "no more changes: stopping !\n",
            "[[44.  6.]\n",
            " [ 6. 44.]]\n",
            "The number of errors: 12\n",
            "The errors rate: 0.12\n",
            "The value of cost: 0.3045959770679474\n",
            "N and M are: 7 1\n",
            "no more changes: stopping !\n",
            "[[42.  8.]\n",
            " [ 3. 47.]]\n",
            "The number of errors: 11\n",
            "The errors rate: 0.11\n",
            "The value of cost: 0.26187625527381897\n",
            "N and M are: 7 2\n",
            "no more changes: stopping !\n",
            "[[41.  9.]\n",
            " [ 4. 46.]]\n",
            "The number of errors: 13\n",
            "The errors rate: 0.13\n",
            "The value of cost: 0.29024559259414673\n",
            "N and M are: 7 3\n",
            "no more changes: stopping !\n",
            "[[41.  9.]\n",
            " [ 4. 46.]]\n",
            "The number of errors: 13\n",
            "The errors rate: 0.13\n",
            "The value of cost: 0.29031670093536377\n",
            "N and M are: 7 4\n",
            "no more changes: stopping !\n",
            "[[41.  9.]\n",
            " [ 4. 46.]]\n",
            "The number of errors: 13\n",
            "The errors rate: 0.13\n",
            "The value of cost: 0.290497362613678\n",
            "N and M are: 7 5\n",
            "no more changes: stopping !\n",
            "[[46.  4.]\n",
            " [ 0. 50.]]\n",
            "The number of errors: 4\n",
            "The errors rate: 0.04\n",
            "The value of cost: 0.12929892539978027\n",
            "N and M are: 7 6\n",
            "no more changes: stopping !\n",
            "[[38. 12.]\n",
            " [ 3. 47.]]\n",
            "The number of errors: 15\n",
            "The errors rate: 0.15\n",
            "The value of cost: 0.3180437386035919\n",
            "N and M are: 7 7\n",
            "no more changes: stopping !\n",
            "[[49.  1.]\n",
            " [ 1. 49.]]\n",
            "The number of errors: 2\n",
            "The errors rate: 0.02\n",
            "The value of cost: 0.066982701420784\n",
            "N and M are: 7 8\n",
            "no more changes: stopping !\n",
            "[[46.  4.]\n",
            " [ 0. 50.]]\n",
            "The number of errors: 4\n",
            "The errors rate: 0.04\n",
            "The value of cost: 0.10479862242937088\n",
            "N and M are: 7 9\n",
            "no more changes: stopping !\n",
            "[[48.  2.]\n",
            " [ 0. 50.]]\n",
            "The number of errors: 2\n",
            "The errors rate: 0.02\n",
            "The value of cost: 0.05888906121253967\n",
            "N and M are: 7 10\n",
            "no more changes: stopping !\n",
            "[[43.  7.]\n",
            " [ 3. 47.]]\n",
            "The number of errors: 10\n",
            "The errors rate: 0.1\n",
            "The value of cost: 0.24948298931121826\n",
            "N and M are: 8 1\n",
            "no more changes: stopping !\n",
            "[[48.  2.]\n",
            " [ 0. 50.]]\n",
            "The number of errors: 2\n",
            "The errors rate: 0.02\n",
            "The value of cost: 0.061609894037246704\n",
            "N and M are: 8 2\n",
            "no more changes: stopping !\n",
            "[[43.  7.]\n",
            " [ 3. 47.]]\n",
            "The number of errors: 10\n",
            "The errors rate: 0.1\n",
            "The value of cost: 0.2585570514202118\n",
            "N and M are: 8 3\n",
            "no more changes: stopping !\n",
            "[[40. 10.]\n",
            " [ 3. 47.]]\n",
            "The number of errors: 13\n",
            "The errors rate: 0.13\n",
            "The value of cost: 0.24453511834144592\n",
            "N and M are: 8 4\n",
            "no more changes: stopping !\n",
            "[[37. 13.]\n",
            " [ 0. 50.]]\n",
            "The number of errors: 13\n",
            "The errors rate: 0.13\n",
            "The value of cost: 0.22807766497135162\n",
            "N and M are: 8 5\n",
            "no more changes: stopping !\n",
            "[[43.  7.]\n",
            " [ 3. 47.]]\n",
            "The number of errors: 10\n",
            "The errors rate: 0.1\n",
            "The value of cost: 0.25193580985069275\n",
            "N and M are: 8 6\n",
            "no more changes: stopping !\n",
            "[[41.  9.]\n",
            " [ 3. 47.]]\n",
            "The number of errors: 12\n",
            "The errors rate: 0.12\n",
            "The value of cost: 0.23998716473579407\n",
            "N and M are: 8 7\n",
            "no more changes: stopping !\n",
            "[[43.  7.]\n",
            " [ 6. 44.]]\n",
            "The number of errors: 13\n",
            "The errors rate: 0.13\n",
            "The value of cost: 0.3009340167045593\n",
            "N and M are: 8 8\n",
            "no more changes: stopping !\n",
            "[[47.  3.]\n",
            " [ 0. 50.]]\n",
            "The number of errors: 3\n",
            "The errors rate: 0.03\n",
            "The value of cost: 0.07112684100866318\n",
            "N and M are: 8 9\n",
            "no more changes: stopping !\n",
            "[[43.  7.]\n",
            " [ 6. 44.]]\n",
            "The number of errors: 13\n",
            "The errors rate: 0.13\n",
            "The value of cost: 0.30387917160987854\n",
            "N and M are: 8 10\n",
            "no more changes: stopping !\n",
            "[[44.  6.]\n",
            " [ 6. 44.]]\n",
            "The number of errors: 12\n",
            "The errors rate: 0.12\n",
            "The value of cost: 0.2710573971271515\n",
            "N and M are: 9 1\n",
            "no more changes: stopping !\n",
            "[[ 0. 50.]\n",
            " [ 0. 50.]]\n",
            "The number of errors: 50\n",
            "The errors rate: 0.5\n",
            "The value of cost: 0.6934854388237\n",
            "N and M are: 9 2\n",
            "no more changes: stopping !\n",
            "[[ 0. 50.]\n",
            " [ 0. 50.]]\n",
            "The number of errors: 50\n",
            "The errors rate: 0.5\n",
            "The value of cost: 0.6934854388237\n",
            "N and M are: 9 3\n",
            "no more changes: stopping !\n",
            "[[ 0. 50.]\n",
            " [ 0. 50.]]\n",
            "The number of errors: 50\n",
            "The errors rate: 0.5\n",
            "The value of cost: 0.6934855580329895\n",
            "N and M are: 9 4\n",
            "no more changes: stopping !\n",
            "[[44.  6.]\n",
            " [ 6. 44.]]\n",
            "The number of errors: 12\n",
            "The errors rate: 0.12\n",
            "The value of cost: 0.31475400924682617\n",
            "N and M are: 9 5\n",
            "no more changes: stopping !\n",
            "[[ 0. 50.]\n",
            " [ 0. 50.]]\n",
            "The number of errors: 50\n",
            "The errors rate: 0.5\n",
            "The value of cost: 0.6934854388237\n",
            "N and M are: 9 6\n",
            "no more changes: stopping !\n",
            "[[43.  7.]\n",
            " [ 6. 44.]]\n",
            "The number of errors: 13\n",
            "The errors rate: 0.13\n",
            "The value of cost: 0.3052051067352295\n",
            "N and M are: 9 7\n",
            "no more changes: stopping !\n",
            "[[36. 14.]\n",
            " [ 1. 49.]]\n",
            "The number of errors: 15\n",
            "The errors rate: 0.15\n",
            "The value of cost: 0.35405272245407104\n",
            "N and M are: 9 8\n",
            "no more changes: stopping !\n",
            "[[42.  8.]\n",
            " [ 6. 44.]]\n",
            "The number of errors: 14\n",
            "The errors rate: 0.14\n",
            "The value of cost: 0.30096757411956787\n",
            "N and M are: 9 9\n",
            "no more changes: stopping !\n",
            "[[49.  1.]\n",
            " [ 0. 50.]]\n",
            "The number of errors: 1\n",
            "The errors rate: 0.01\n",
            "The value of cost: 0.05493081733584404\n",
            "N and M are: 9 10\n",
            "no more changes: stopping !\n",
            "[[44.  6.]\n",
            " [ 7. 43.]]\n",
            "The number of errors: 13\n",
            "The errors rate: 0.13\n",
            "The value of cost: 0.2733997106552124\n",
            "N and M are: 10 1\n",
            "no more changes: stopping !\n",
            "[[44.  6.]\n",
            " [ 6. 44.]]\n",
            "The number of errors: 12\n",
            "The errors rate: 0.12\n",
            "The value of cost: 0.3114016354084015\n",
            "N and M are: 10 2\n",
            "no more changes: stopping !\n",
            "[[44.  6.]\n",
            " [ 6. 44.]]\n",
            "The number of errors: 12\n",
            "The errors rate: 0.12\n",
            "The value of cost: 0.3115309476852417\n",
            "N and M are: 10 3\n",
            "no more changes: stopping !\n",
            "[[43.  7.]\n",
            " [ 6. 44.]]\n",
            "The number of errors: 13\n",
            "The errors rate: 0.13\n",
            "The value of cost: 0.3048534691333771\n",
            "N and M are: 10 4\n",
            "no more changes: stopping !\n",
            "[[43.  7.]\n",
            " [ 6. 44.]]\n",
            "The number of errors: 13\n",
            "The errors rate: 0.13\n",
            "The value of cost: 0.30043402314186096\n",
            "N and M are: 10 5\n",
            "no more changes: stopping !\n",
            "[[43.  7.]\n",
            " [ 6. 44.]]\n",
            "The number of errors: 13\n",
            "The errors rate: 0.13\n",
            "The value of cost: 0.3017522096633911\n",
            "N and M are: 10 6\n",
            "no more changes: stopping !\n",
            "[[43.  7.]\n",
            " [ 6. 44.]]\n",
            "The number of errors: 13\n",
            "The errors rate: 0.13\n",
            "The value of cost: 0.30112484097480774\n",
            "N and M are: 10 7\n",
            "no more changes: stopping !\n",
            "[[46.  4.]\n",
            " [ 6. 44.]]\n",
            "The number of errors: 10\n",
            "The errors rate: 0.1\n",
            "The value of cost: 0.28814589977264404\n",
            "N and M are: 10 8\n",
            "no more changes: stopping !\n",
            "[[44.  6.]\n",
            " [ 6. 44.]]\n",
            "The number of errors: 12\n",
            "The errors rate: 0.12\n",
            "The value of cost: 0.3020871877670288\n",
            "N and M are: 10 9\n",
            "no more changes: stopping !\n",
            "[[44.  6.]\n",
            " [ 6. 44.]]\n",
            "The number of errors: 12\n",
            "The errors rate: 0.12\n",
            "The value of cost: 0.3003008961677551\n",
            "N and M are: 10 10\n",
            "no more changes: stopping !\n",
            "[[43.  7.]\n",
            " [ 6. 44.]]\n",
            "The number of errors: 13\n",
            "The errors rate: 0.13\n",
            "The value of cost: 0.29998305439949036\n"
          ]
        },
        {
          "output_type": "display_data",
          "data": {
            "image/png": "[encoded data removed]",
            "text/plain": [
              "<Figure size 432x288 with 1 Axes>"
            ]
          },
          "metadata": {
            "needs_background": "light"
          }
        }
      ]
    },
    {
      "cell_type": "code",
      "source": [
        "min(error_arr)"
      ],
      "metadata": {
        "colab": {
          "base_uri": "https://localhost:8080/"
        },
        "id": "8e_14H90IShF",
        "outputId": "9ed6b5b5-d211-4943-858d-35a81e5e740c"
      },
      "execution_count": 79,
      "outputs": [
        {
          "output_type": "execute_result",
          "data": {
            "text/plain": [
              "0.04559670761227608"
            ]
          },
          "metadata": {},
          "execution_count": 79
        }
      ]
    },
    {
      "cell_type": "code",
      "source": [
        "np.argmin(error_arr)"
      ],
      "metadata": {
        "colab": {
          "base_uri": "https://localhost:8080/"
        },
        "id": "hor5odu7I8-J",
        "outputId": "ffffcf80-7528-4041-878c-e5478e8b0805"
      },
      "execution_count": 80,
      "outputs": [
        {
          "output_type": "execute_result",
          "data": {
            "text/plain": [
              "51"
            ]
          },
          "metadata": {},
          "execution_count": 80
        }
      ]
    },
    {
      "cell_type": "code",
      "source": [
        "print(\"The minimum error rate:{}, correspond to N1={} and N2={}\".format(min(error_arr),((np.argmin(error_arr)//10)+1),((np.argmin(error_arr)%10)+1)))"
      ],
      "metadata": {
        "colab": {
          "base_uri": "https://localhost:8080/"
        },
        "id": "zikC37aFaSvW",
        "outputId": "0449108b-aadc-4551-9649-0ac2123d26a4"
      },
      "execution_count": 81,
      "outputs": [
        {
          "output_type": "stream",
          "name": "stdout",
          "text": [
            "The minimum error rate:0.04559670761227608, correspond to N1=6 and N2=2\n"
          ]
        }
      ]
    }
  ],
  "metadata": {
    "kernelspec": {
      "display_name": "Python 3 (ipykernel)",
      "language": "python",
      "name": "python3"
    },
    "language_info": {
      "codemirror_mode": {
        "name": "ipython",
        "version": 3
      },
      "file_extension": ".py",
      "mimetype": "text/x-python",
      "name": "python",
      "nbconvert_exporter": "python",
      "pygments_lexer": "ipython3",
      "version": "3.8.5"
    },
    "colab": {
      "name": "02_ 02-nn-2d.ipynb",
      "provenance": [],
      "collapsed_sections": []
    }
  },
  "nbformat": 4,
  "nbformat_minor": 0
}